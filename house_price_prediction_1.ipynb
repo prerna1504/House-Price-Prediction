{
 "cells": [
  {
   "cell_type": "markdown",
   "id": "7d53a4e2-5db4-4f71-b9a4-1a2b12621914",
   "metadata": {
    "tags": []
   },
   "source": [
    "# House price prediction regression project"
   ]
  },
  {
   "cell_type": "markdown",
   "id": "f372593e-ebd9-4d85-b1c9-d5945e4b6939",
   "metadata": {
    "tags": []
   },
   "source": [
    "## Project goal"
   ]
  },
  {
   "cell_type": "raw",
   "id": "1c1c0f63-c29f-4b7c-8fc0-6b3cb265e924",
   "metadata": {},
   "source": [
    "Predict the price of house by its feature "
   ]
  },
  {
   "cell_type": "markdown",
   "id": "771aa9ae-75b0-4b3f-9d27-ac5e36fb160b",
   "metadata": {
    "tags": []
   },
   "source": [
    "## load modules "
   ]
  },
  {
   "cell_type": "code",
   "execution_count": 170,
   "id": "4ebde470-b173-4bc5-b69a-b73879720097",
   "metadata": {
    "tags": []
   },
   "outputs": [],
   "source": [
    "\"\"\"pip install numpy\n",
    "pip install pandas\n",
    "pip install matplotlib\n",
    "pip install seaborn\n",
    "\"\"\"\n",
    "import numpy as np\n",
    "import pandas as pd\n",
    "import matplotlib.pyplot as plt\n",
    "import seaborn as sns\n",
    "import calendar\n",
    "from pandas.api.types import CategoricalDtype\n",
    "from sklearn.preprocessing import StandardScaler\n",
    "\n",
    "\n"
   ]
  },
  {
   "cell_type": "markdown",
   "id": "ff92a8b9-c916-4f31-98a7-c4e5ced64bf7",
   "metadata": {},
   "source": [
    "## load dataset"
   ]
  },
  {
   "cell_type": "code",
   "execution_count": 16,
   "id": "e6af9e2c-2fc0-4d02-8f70-234ec041b2e4",
   "metadata": {
    "tags": []
   },
   "outputs": [
    {
     "name": "stdout",
     "output_type": "stream",
     "text": [
      "Shape of df_train (1460, 81)\n",
      "Shape of df_test (1459, 80)\n"
     ]
    }
   ],
   "source": [
    "train_data_path = r\"C:\\Users\\Prerna\\House_Price_Prediction\\data\\train.csv\"\n",
    "test_data_path = r\"C:\\Users\\Prerna\\House_Price_Prediction\\data\\test.csv\"\n",
    "\n",
    "df_train = pd.read_csv(train_data_path)\n",
    "df_test = pd.read_csv(test_data_path)\n",
    "\n",
    "print(\"Shape of df_train\", df_train.shape)\n",
    "print(\"Shape of df_test\", df_test.shape)"
   ]
  },
  {
   "cell_type": "code",
   "execution_count": 17,
   "id": "78495c93-2bd3-4f01-a454-041e61d8f563",
   "metadata": {
    "tags": []
   },
   "outputs": [
    {
     "data": {
      "text/html": [
       "<div>\n",
       "<style scoped>\n",
       "    .dataframe tbody tr th:only-of-type {\n",
       "        vertical-align: middle;\n",
       "    }\n",
       "\n",
       "    .dataframe tbody tr th {\n",
       "        vertical-align: top;\n",
       "    }\n",
       "\n",
       "    .dataframe thead th {\n",
       "        text-align: right;\n",
       "    }\n",
       "</style>\n",
       "<table border=\"1\" class=\"dataframe\">\n",
       "  <thead>\n",
       "    <tr style=\"text-align: right;\">\n",
       "      <th></th>\n",
       "      <th>Id</th>\n",
       "      <th>MSSubClass</th>\n",
       "      <th>MSZoning</th>\n",
       "      <th>LotFrontage</th>\n",
       "      <th>LotArea</th>\n",
       "      <th>Street</th>\n",
       "      <th>Alley</th>\n",
       "      <th>LotShape</th>\n",
       "      <th>LandContour</th>\n",
       "      <th>Utilities</th>\n",
       "      <th>...</th>\n",
       "      <th>PoolArea</th>\n",
       "      <th>PoolQC</th>\n",
       "      <th>Fence</th>\n",
       "      <th>MiscFeature</th>\n",
       "      <th>MiscVal</th>\n",
       "      <th>MoSold</th>\n",
       "      <th>YrSold</th>\n",
       "      <th>SaleType</th>\n",
       "      <th>SaleCondition</th>\n",
       "      <th>SalePrice</th>\n",
       "    </tr>\n",
       "  </thead>\n",
       "  <tbody>\n",
       "    <tr>\n",
       "      <th>0</th>\n",
       "      <td>1</td>\n",
       "      <td>60</td>\n",
       "      <td>RL</td>\n",
       "      <td>65.0</td>\n",
       "      <td>8450</td>\n",
       "      <td>Pave</td>\n",
       "      <td>NaN</td>\n",
       "      <td>Reg</td>\n",
       "      <td>Lvl</td>\n",
       "      <td>AllPub</td>\n",
       "      <td>...</td>\n",
       "      <td>0</td>\n",
       "      <td>NaN</td>\n",
       "      <td>NaN</td>\n",
       "      <td>NaN</td>\n",
       "      <td>0</td>\n",
       "      <td>2</td>\n",
       "      <td>2008</td>\n",
       "      <td>WD</td>\n",
       "      <td>Normal</td>\n",
       "      <td>208500</td>\n",
       "    </tr>\n",
       "    <tr>\n",
       "      <th>1</th>\n",
       "      <td>2</td>\n",
       "      <td>20</td>\n",
       "      <td>RL</td>\n",
       "      <td>80.0</td>\n",
       "      <td>9600</td>\n",
       "      <td>Pave</td>\n",
       "      <td>NaN</td>\n",
       "      <td>Reg</td>\n",
       "      <td>Lvl</td>\n",
       "      <td>AllPub</td>\n",
       "      <td>...</td>\n",
       "      <td>0</td>\n",
       "      <td>NaN</td>\n",
       "      <td>NaN</td>\n",
       "      <td>NaN</td>\n",
       "      <td>0</td>\n",
       "      <td>5</td>\n",
       "      <td>2007</td>\n",
       "      <td>WD</td>\n",
       "      <td>Normal</td>\n",
       "      <td>181500</td>\n",
       "    </tr>\n",
       "    <tr>\n",
       "      <th>2</th>\n",
       "      <td>3</td>\n",
       "      <td>60</td>\n",
       "      <td>RL</td>\n",
       "      <td>68.0</td>\n",
       "      <td>11250</td>\n",
       "      <td>Pave</td>\n",
       "      <td>NaN</td>\n",
       "      <td>IR1</td>\n",
       "      <td>Lvl</td>\n",
       "      <td>AllPub</td>\n",
       "      <td>...</td>\n",
       "      <td>0</td>\n",
       "      <td>NaN</td>\n",
       "      <td>NaN</td>\n",
       "      <td>NaN</td>\n",
       "      <td>0</td>\n",
       "      <td>9</td>\n",
       "      <td>2008</td>\n",
       "      <td>WD</td>\n",
       "      <td>Normal</td>\n",
       "      <td>223500</td>\n",
       "    </tr>\n",
       "    <tr>\n",
       "      <th>3</th>\n",
       "      <td>4</td>\n",
       "      <td>70</td>\n",
       "      <td>RL</td>\n",
       "      <td>60.0</td>\n",
       "      <td>9550</td>\n",
       "      <td>Pave</td>\n",
       "      <td>NaN</td>\n",
       "      <td>IR1</td>\n",
       "      <td>Lvl</td>\n",
       "      <td>AllPub</td>\n",
       "      <td>...</td>\n",
       "      <td>0</td>\n",
       "      <td>NaN</td>\n",
       "      <td>NaN</td>\n",
       "      <td>NaN</td>\n",
       "      <td>0</td>\n",
       "      <td>2</td>\n",
       "      <td>2006</td>\n",
       "      <td>WD</td>\n",
       "      <td>Abnorml</td>\n",
       "      <td>140000</td>\n",
       "    </tr>\n",
       "    <tr>\n",
       "      <th>4</th>\n",
       "      <td>5</td>\n",
       "      <td>60</td>\n",
       "      <td>RL</td>\n",
       "      <td>84.0</td>\n",
       "      <td>14260</td>\n",
       "      <td>Pave</td>\n",
       "      <td>NaN</td>\n",
       "      <td>IR1</td>\n",
       "      <td>Lvl</td>\n",
       "      <td>AllPub</td>\n",
       "      <td>...</td>\n",
       "      <td>0</td>\n",
       "      <td>NaN</td>\n",
       "      <td>NaN</td>\n",
       "      <td>NaN</td>\n",
       "      <td>0</td>\n",
       "      <td>12</td>\n",
       "      <td>2008</td>\n",
       "      <td>WD</td>\n",
       "      <td>Normal</td>\n",
       "      <td>250000</td>\n",
       "    </tr>\n",
       "  </tbody>\n",
       "</table>\n",
       "<p>5 rows × 81 columns</p>\n",
       "</div>"
      ],
      "text/plain": [
       "   Id  MSSubClass MSZoning  LotFrontage  LotArea Street Alley LotShape   \n",
       "0   1          60       RL         65.0     8450   Pave   NaN      Reg  \\\n",
       "1   2          20       RL         80.0     9600   Pave   NaN      Reg   \n",
       "2   3          60       RL         68.0    11250   Pave   NaN      IR1   \n",
       "3   4          70       RL         60.0     9550   Pave   NaN      IR1   \n",
       "4   5          60       RL         84.0    14260   Pave   NaN      IR1   \n",
       "\n",
       "  LandContour Utilities  ... PoolArea PoolQC Fence MiscFeature MiscVal MoSold   \n",
       "0         Lvl    AllPub  ...        0    NaN   NaN         NaN       0      2  \\\n",
       "1         Lvl    AllPub  ...        0    NaN   NaN         NaN       0      5   \n",
       "2         Lvl    AllPub  ...        0    NaN   NaN         NaN       0      9   \n",
       "3         Lvl    AllPub  ...        0    NaN   NaN         NaN       0      2   \n",
       "4         Lvl    AllPub  ...        0    NaN   NaN         NaN       0     12   \n",
       "\n",
       "  YrSold  SaleType  SaleCondition  SalePrice  \n",
       "0   2008        WD         Normal     208500  \n",
       "1   2007        WD         Normal     181500  \n",
       "2   2008        WD         Normal     223500  \n",
       "3   2006        WD        Abnorml     140000  \n",
       "4   2008        WD         Normal     250000  \n",
       "\n",
       "[5 rows x 81 columns]"
      ]
     },
     "execution_count": 17,
     "metadata": {},
     "output_type": "execute_result"
    }
   ],
   "source": [
    "df_train.head()"
   ]
  },
  {
   "cell_type": "markdown",
   "id": "ac0ee4fc-88ac-494c-8eec-a2910aba3e3f",
   "metadata": {
    "tags": []
   },
   "source": [
    "## data integration"
   ]
  },
  {
   "cell_type": "code",
   "execution_count": 18,
   "id": "12eab0f2-1dbc-4d45-b5e6-72232965e6d3",
   "metadata": {
    "tags": []
   },
   "outputs": [
    {
     "name": "stdout",
     "output_type": "stream",
     "text": [
      "shape of integrated data  (2919, 81)\n"
     ]
    }
   ],
   "source": [
    "df = pd.concat([df_train, df_test])\n",
    "\n",
    "print(\"shape of integrated data \", df.shape)"
   ]
  },
  {
   "cell_type": "code",
   "execution_count": 19,
   "id": "da100fd2-198c-4b72-996a-a4f2aad79907",
   "metadata": {
    "tags": []
   },
   "outputs": [
    {
     "name": "stdout",
     "output_type": "stream",
     "text": [
      "<class 'pandas.core.frame.DataFrame'>\n",
      "Index: 2919 entries, 0 to 1458\n",
      "Data columns (total 81 columns):\n",
      " #   Column         Non-Null Count  Dtype  \n",
      "---  ------         --------------  -----  \n",
      " 0   Id             2919 non-null   int64  \n",
      " 1   MSSubClass     2919 non-null   int64  \n",
      " 2   MSZoning       2915 non-null   object \n",
      " 3   LotFrontage    2433 non-null   float64\n",
      " 4   LotArea        2919 non-null   int64  \n",
      " 5   Street         2919 non-null   object \n",
      " 6   Alley          198 non-null    object \n",
      " 7   LotShape       2919 non-null   object \n",
      " 8   LandContour    2919 non-null   object \n",
      " 9   Utilities      2917 non-null   object \n",
      " 10  LotConfig      2919 non-null   object \n",
      " 11  LandSlope      2919 non-null   object \n",
      " 12  Neighborhood   2919 non-null   object \n",
      " 13  Condition1     2919 non-null   object \n",
      " 14  Condition2     2919 non-null   object \n",
      " 15  BldgType       2919 non-null   object \n",
      " 16  HouseStyle     2919 non-null   object \n",
      " 17  OverallQual    2919 non-null   int64  \n",
      " 18  OverallCond    2919 non-null   int64  \n",
      " 19  YearBuilt      2919 non-null   int64  \n",
      " 20  YearRemodAdd   2919 non-null   int64  \n",
      " 21  RoofStyle      2919 non-null   object \n",
      " 22  RoofMatl       2919 non-null   object \n",
      " 23  Exterior1st    2918 non-null   object \n",
      " 24  Exterior2nd    2918 non-null   object \n",
      " 25  MasVnrType     1153 non-null   object \n",
      " 26  MasVnrArea     2896 non-null   float64\n",
      " 27  ExterQual      2919 non-null   object \n",
      " 28  ExterCond      2919 non-null   object \n",
      " 29  Foundation     2919 non-null   object \n",
      " 30  BsmtQual       2838 non-null   object \n",
      " 31  BsmtCond       2837 non-null   object \n",
      " 32  BsmtExposure   2837 non-null   object \n",
      " 33  BsmtFinType1   2840 non-null   object \n",
      " 34  BsmtFinSF1     2918 non-null   float64\n",
      " 35  BsmtFinType2   2839 non-null   object \n",
      " 36  BsmtFinSF2     2918 non-null   float64\n",
      " 37  BsmtUnfSF      2918 non-null   float64\n",
      " 38  TotalBsmtSF    2918 non-null   float64\n",
      " 39  Heating        2919 non-null   object \n",
      " 40  HeatingQC      2919 non-null   object \n",
      " 41  CentralAir     2919 non-null   object \n",
      " 42  Electrical     2918 non-null   object \n",
      " 43  1stFlrSF       2919 non-null   int64  \n",
      " 44  2ndFlrSF       2919 non-null   int64  \n",
      " 45  LowQualFinSF   2919 non-null   int64  \n",
      " 46  GrLivArea      2919 non-null   int64  \n",
      " 47  BsmtFullBath   2917 non-null   float64\n",
      " 48  BsmtHalfBath   2917 non-null   float64\n",
      " 49  FullBath       2919 non-null   int64  \n",
      " 50  HalfBath       2919 non-null   int64  \n",
      " 51  BedroomAbvGr   2919 non-null   int64  \n",
      " 52  KitchenAbvGr   2919 non-null   int64  \n",
      " 53  KitchenQual    2918 non-null   object \n",
      " 54  TotRmsAbvGrd   2919 non-null   int64  \n",
      " 55  Functional     2917 non-null   object \n",
      " 56  Fireplaces     2919 non-null   int64  \n",
      " 57  FireplaceQu    1499 non-null   object \n",
      " 58  GarageType     2762 non-null   object \n",
      " 59  GarageYrBlt    2760 non-null   float64\n",
      " 60  GarageFinish   2760 non-null   object \n",
      " 61  GarageCars     2918 non-null   float64\n",
      " 62  GarageArea     2918 non-null   float64\n",
      " 63  GarageQual     2760 non-null   object \n",
      " 64  GarageCond     2760 non-null   object \n",
      " 65  PavedDrive     2919 non-null   object \n",
      " 66  WoodDeckSF     2919 non-null   int64  \n",
      " 67  OpenPorchSF    2919 non-null   int64  \n",
      " 68  EnclosedPorch  2919 non-null   int64  \n",
      " 69  3SsnPorch      2919 non-null   int64  \n",
      " 70  ScreenPorch    2919 non-null   int64  \n",
      " 71  PoolArea       2919 non-null   int64  \n",
      " 72  PoolQC         10 non-null     object \n",
      " 73  Fence          571 non-null    object \n",
      " 74  MiscFeature    105 non-null    object \n",
      " 75  MiscVal        2919 non-null   int64  \n",
      " 76  MoSold         2919 non-null   int64  \n",
      " 77  YrSold         2919 non-null   int64  \n",
      " 78  SaleType       2918 non-null   object \n",
      " 79  SaleCondition  2919 non-null   object \n",
      " 80  SalePrice      1460 non-null   float64\n",
      "dtypes: float64(12), int64(26), object(43)\n",
      "memory usage: 1.8+ MB\n"
     ]
    }
   ],
   "source": [
    "df.info()"
   ]
  },
  {
   "cell_type": "code",
   "execution_count": 20,
   "id": "27f57832-f29b-4d7a-803e-c5833fdf3c13",
   "metadata": {},
   "outputs": [
    {
     "name": "stdout",
     "output_type": "stream",
     "text": [
      "Total number of integer features: 26\n",
      "integer feature name: Index(['Id', 'MSSubClass', 'LotArea', 'OverallQual', 'OverallCond',\n",
      "       'YearBuilt', 'YearRemodAdd', '1stFlrSF', '2ndFlrSF', 'LowQualFinSF',\n",
      "       'GrLivArea', 'FullBath', 'HalfBath', 'BedroomAbvGr', 'KitchenAbvGr',\n",
      "       'TotRmsAbvGrd', 'Fireplaces', 'WoodDeckSF', 'OpenPorchSF',\n",
      "       'EnclosedPorch', '3SsnPorch', 'ScreenPorch', 'PoolArea', 'MiscVal',\n",
      "       'MoSold', 'YrSold'],\n",
      "      dtype='object')\n"
     ]
    }
   ],
   "source": [
    "int_features = df.select_dtypes(include = [\"int64\"]).columns\n",
    "print(\"Total number of integer features:\", int_features.shape[0])\n",
    "\n",
    "print(\"integer feature name:\" , int_features)"
   ]
  },
  {
   "cell_type": "code",
   "execution_count": 23,
   "id": "8f076b11-1489-4afe-b658-491b7354c866",
   "metadata": {
    "tags": []
   },
   "outputs": [
    {
     "name": "stdout",
     "output_type": "stream",
     "text": [
      "Total number of integer features: 12\n",
      "integer feature name: Index(['LotFrontage', 'MasVnrArea', 'BsmtFinSF1', 'BsmtFinSF2', 'BsmtUnfSF',\n",
      "       'TotalBsmtSF', 'BsmtFullBath', 'BsmtHalfBath', 'GarageYrBlt',\n",
      "       'GarageCars', 'GarageArea', 'SalePrice'],\n",
      "      dtype='object')\n"
     ]
    }
   ],
   "source": [
    "float_features = df.select_dtypes(include = [\"float64\"]).columns\n",
    "print(\"Total number of integer features:\", float_features.shape[0])\n",
    "\n",
    "print(\"integer feature name:\" , float_features)"
   ]
  },
  {
   "cell_type": "code",
   "execution_count": 24,
   "id": "f7afd3d2-b328-4e11-ae98-bbdb5aacd150",
   "metadata": {
    "tags": []
   },
   "outputs": [
    {
     "name": "stdout",
     "output_type": "stream",
     "text": [
      "Total number of integer features: 43\n",
      "integer feature name: Index(['MSZoning', 'Street', 'Alley', 'LotShape', 'LandContour', 'Utilities',\n",
      "       'LotConfig', 'LandSlope', 'Neighborhood', 'Condition1', 'Condition2',\n",
      "       'BldgType', 'HouseStyle', 'RoofStyle', 'RoofMatl', 'Exterior1st',\n",
      "       'Exterior2nd', 'MasVnrType', 'ExterQual', 'ExterCond', 'Foundation',\n",
      "       'BsmtQual', 'BsmtCond', 'BsmtExposure', 'BsmtFinType1', 'BsmtFinType2',\n",
      "       'Heating', 'HeatingQC', 'CentralAir', 'Electrical', 'KitchenQual',\n",
      "       'Functional', 'FireplaceQu', 'GarageType', 'GarageFinish', 'GarageQual',\n",
      "       'GarageCond', 'PavedDrive', 'PoolQC', 'Fence', 'MiscFeature',\n",
      "       'SaleType', 'SaleCondition'],\n",
      "      dtype='object')\n"
     ]
    }
   ],
   "source": [
    "cat_features = df.select_dtypes(include = [\"object\"]).columns\n",
    "print(\"Total number of integer features:\", cat_features.shape[0])\n",
    "\n",
    "print(\"integer feature name:\" , cat_features)"
   ]
  },
  {
   "cell_type": "markdown",
   "id": "635d2a8b-ff31-4a8b-98e9-a008df463801",
   "metadata": {
    "tags": []
   },
   "source": [
    "## Get the Statistical features of Numerical features"
   ]
  },
  {
   "cell_type": "code",
   "execution_count": 25,
   "id": "0f104b72-4a0d-4b49-9795-b9a83d7c4e29",
   "metadata": {
    "tags": []
   },
   "outputs": [
    {
     "data": {
      "text/html": [
       "<div>\n",
       "<style scoped>\n",
       "    .dataframe tbody tr th:only-of-type {\n",
       "        vertical-align: middle;\n",
       "    }\n",
       "\n",
       "    .dataframe tbody tr th {\n",
       "        vertical-align: top;\n",
       "    }\n",
       "\n",
       "    .dataframe thead th {\n",
       "        text-align: right;\n",
       "    }\n",
       "</style>\n",
       "<table border=\"1\" class=\"dataframe\">\n",
       "  <thead>\n",
       "    <tr style=\"text-align: right;\">\n",
       "      <th></th>\n",
       "      <th>Id</th>\n",
       "      <th>MSSubClass</th>\n",
       "      <th>LotFrontage</th>\n",
       "      <th>LotArea</th>\n",
       "      <th>OverallQual</th>\n",
       "      <th>OverallCond</th>\n",
       "      <th>YearBuilt</th>\n",
       "      <th>YearRemodAdd</th>\n",
       "      <th>MasVnrArea</th>\n",
       "      <th>BsmtFinSF1</th>\n",
       "      <th>...</th>\n",
       "      <th>WoodDeckSF</th>\n",
       "      <th>OpenPorchSF</th>\n",
       "      <th>EnclosedPorch</th>\n",
       "      <th>3SsnPorch</th>\n",
       "      <th>ScreenPorch</th>\n",
       "      <th>PoolArea</th>\n",
       "      <th>MiscVal</th>\n",
       "      <th>MoSold</th>\n",
       "      <th>YrSold</th>\n",
       "      <th>SalePrice</th>\n",
       "    </tr>\n",
       "  </thead>\n",
       "  <tbody>\n",
       "    <tr>\n",
       "      <th>count</th>\n",
       "      <td>2919.000000</td>\n",
       "      <td>2919.000000</td>\n",
       "      <td>2433.000000</td>\n",
       "      <td>2919.000000</td>\n",
       "      <td>2919.000000</td>\n",
       "      <td>2919.000000</td>\n",
       "      <td>2919.000000</td>\n",
       "      <td>2919.000000</td>\n",
       "      <td>2896.000000</td>\n",
       "      <td>2918.000000</td>\n",
       "      <td>...</td>\n",
       "      <td>2919.000000</td>\n",
       "      <td>2919.000000</td>\n",
       "      <td>2919.000000</td>\n",
       "      <td>2919.000000</td>\n",
       "      <td>2919.000000</td>\n",
       "      <td>2919.000000</td>\n",
       "      <td>2919.000000</td>\n",
       "      <td>2919.000000</td>\n",
       "      <td>2919.000000</td>\n",
       "      <td>1460.000000</td>\n",
       "    </tr>\n",
       "    <tr>\n",
       "      <th>mean</th>\n",
       "      <td>1460.000000</td>\n",
       "      <td>57.137718</td>\n",
       "      <td>69.305795</td>\n",
       "      <td>10168.114080</td>\n",
       "      <td>6.089072</td>\n",
       "      <td>5.564577</td>\n",
       "      <td>1971.312778</td>\n",
       "      <td>1984.264474</td>\n",
       "      <td>102.201312</td>\n",
       "      <td>441.423235</td>\n",
       "      <td>...</td>\n",
       "      <td>93.709832</td>\n",
       "      <td>47.486811</td>\n",
       "      <td>23.098321</td>\n",
       "      <td>2.602261</td>\n",
       "      <td>16.062350</td>\n",
       "      <td>2.251799</td>\n",
       "      <td>50.825968</td>\n",
       "      <td>6.213087</td>\n",
       "      <td>2007.792737</td>\n",
       "      <td>180921.195890</td>\n",
       "    </tr>\n",
       "    <tr>\n",
       "      <th>std</th>\n",
       "      <td>842.787043</td>\n",
       "      <td>42.517628</td>\n",
       "      <td>23.344905</td>\n",
       "      <td>7886.996359</td>\n",
       "      <td>1.409947</td>\n",
       "      <td>1.113131</td>\n",
       "      <td>30.291442</td>\n",
       "      <td>20.894344</td>\n",
       "      <td>179.334253</td>\n",
       "      <td>455.610826</td>\n",
       "      <td>...</td>\n",
       "      <td>126.526589</td>\n",
       "      <td>67.575493</td>\n",
       "      <td>64.244246</td>\n",
       "      <td>25.188169</td>\n",
       "      <td>56.184365</td>\n",
       "      <td>35.663946</td>\n",
       "      <td>567.402211</td>\n",
       "      <td>2.714762</td>\n",
       "      <td>1.314964</td>\n",
       "      <td>79442.502883</td>\n",
       "    </tr>\n",
       "    <tr>\n",
       "      <th>min</th>\n",
       "      <td>1.000000</td>\n",
       "      <td>20.000000</td>\n",
       "      <td>21.000000</td>\n",
       "      <td>1300.000000</td>\n",
       "      <td>1.000000</td>\n",
       "      <td>1.000000</td>\n",
       "      <td>1872.000000</td>\n",
       "      <td>1950.000000</td>\n",
       "      <td>0.000000</td>\n",
       "      <td>0.000000</td>\n",
       "      <td>...</td>\n",
       "      <td>0.000000</td>\n",
       "      <td>0.000000</td>\n",
       "      <td>0.000000</td>\n",
       "      <td>0.000000</td>\n",
       "      <td>0.000000</td>\n",
       "      <td>0.000000</td>\n",
       "      <td>0.000000</td>\n",
       "      <td>1.000000</td>\n",
       "      <td>2006.000000</td>\n",
       "      <td>34900.000000</td>\n",
       "    </tr>\n",
       "    <tr>\n",
       "      <th>25%</th>\n",
       "      <td>730.500000</td>\n",
       "      <td>20.000000</td>\n",
       "      <td>59.000000</td>\n",
       "      <td>7478.000000</td>\n",
       "      <td>5.000000</td>\n",
       "      <td>5.000000</td>\n",
       "      <td>1953.500000</td>\n",
       "      <td>1965.000000</td>\n",
       "      <td>0.000000</td>\n",
       "      <td>0.000000</td>\n",
       "      <td>...</td>\n",
       "      <td>0.000000</td>\n",
       "      <td>0.000000</td>\n",
       "      <td>0.000000</td>\n",
       "      <td>0.000000</td>\n",
       "      <td>0.000000</td>\n",
       "      <td>0.000000</td>\n",
       "      <td>0.000000</td>\n",
       "      <td>4.000000</td>\n",
       "      <td>2007.000000</td>\n",
       "      <td>129975.000000</td>\n",
       "    </tr>\n",
       "    <tr>\n",
       "      <th>50%</th>\n",
       "      <td>1460.000000</td>\n",
       "      <td>50.000000</td>\n",
       "      <td>68.000000</td>\n",
       "      <td>9453.000000</td>\n",
       "      <td>6.000000</td>\n",
       "      <td>5.000000</td>\n",
       "      <td>1973.000000</td>\n",
       "      <td>1993.000000</td>\n",
       "      <td>0.000000</td>\n",
       "      <td>368.500000</td>\n",
       "      <td>...</td>\n",
       "      <td>0.000000</td>\n",
       "      <td>26.000000</td>\n",
       "      <td>0.000000</td>\n",
       "      <td>0.000000</td>\n",
       "      <td>0.000000</td>\n",
       "      <td>0.000000</td>\n",
       "      <td>0.000000</td>\n",
       "      <td>6.000000</td>\n",
       "      <td>2008.000000</td>\n",
       "      <td>163000.000000</td>\n",
       "    </tr>\n",
       "    <tr>\n",
       "      <th>75%</th>\n",
       "      <td>2189.500000</td>\n",
       "      <td>70.000000</td>\n",
       "      <td>80.000000</td>\n",
       "      <td>11570.000000</td>\n",
       "      <td>7.000000</td>\n",
       "      <td>6.000000</td>\n",
       "      <td>2001.000000</td>\n",
       "      <td>2004.000000</td>\n",
       "      <td>164.000000</td>\n",
       "      <td>733.000000</td>\n",
       "      <td>...</td>\n",
       "      <td>168.000000</td>\n",
       "      <td>70.000000</td>\n",
       "      <td>0.000000</td>\n",
       "      <td>0.000000</td>\n",
       "      <td>0.000000</td>\n",
       "      <td>0.000000</td>\n",
       "      <td>0.000000</td>\n",
       "      <td>8.000000</td>\n",
       "      <td>2009.000000</td>\n",
       "      <td>214000.000000</td>\n",
       "    </tr>\n",
       "    <tr>\n",
       "      <th>max</th>\n",
       "      <td>2919.000000</td>\n",
       "      <td>190.000000</td>\n",
       "      <td>313.000000</td>\n",
       "      <td>215245.000000</td>\n",
       "      <td>10.000000</td>\n",
       "      <td>9.000000</td>\n",
       "      <td>2010.000000</td>\n",
       "      <td>2010.000000</td>\n",
       "      <td>1600.000000</td>\n",
       "      <td>5644.000000</td>\n",
       "      <td>...</td>\n",
       "      <td>1424.000000</td>\n",
       "      <td>742.000000</td>\n",
       "      <td>1012.000000</td>\n",
       "      <td>508.000000</td>\n",
       "      <td>576.000000</td>\n",
       "      <td>800.000000</td>\n",
       "      <td>17000.000000</td>\n",
       "      <td>12.000000</td>\n",
       "      <td>2010.000000</td>\n",
       "      <td>755000.000000</td>\n",
       "    </tr>\n",
       "  </tbody>\n",
       "</table>\n",
       "<p>8 rows × 38 columns</p>\n",
       "</div>"
      ],
      "text/plain": [
       "                Id   MSSubClass  LotFrontage        LotArea  OverallQual   \n",
       "count  2919.000000  2919.000000  2433.000000    2919.000000  2919.000000  \\\n",
       "mean   1460.000000    57.137718    69.305795   10168.114080     6.089072   \n",
       "std     842.787043    42.517628    23.344905    7886.996359     1.409947   \n",
       "min       1.000000    20.000000    21.000000    1300.000000     1.000000   \n",
       "25%     730.500000    20.000000    59.000000    7478.000000     5.000000   \n",
       "50%    1460.000000    50.000000    68.000000    9453.000000     6.000000   \n",
       "75%    2189.500000    70.000000    80.000000   11570.000000     7.000000   \n",
       "max    2919.000000   190.000000   313.000000  215245.000000    10.000000   \n",
       "\n",
       "       OverallCond    YearBuilt  YearRemodAdd   MasVnrArea   BsmtFinSF1  ...   \n",
       "count  2919.000000  2919.000000   2919.000000  2896.000000  2918.000000  ...  \\\n",
       "mean      5.564577  1971.312778   1984.264474   102.201312   441.423235  ...   \n",
       "std       1.113131    30.291442     20.894344   179.334253   455.610826  ...   \n",
       "min       1.000000  1872.000000   1950.000000     0.000000     0.000000  ...   \n",
       "25%       5.000000  1953.500000   1965.000000     0.000000     0.000000  ...   \n",
       "50%       5.000000  1973.000000   1993.000000     0.000000   368.500000  ...   \n",
       "75%       6.000000  2001.000000   2004.000000   164.000000   733.000000  ...   \n",
       "max       9.000000  2010.000000   2010.000000  1600.000000  5644.000000  ...   \n",
       "\n",
       "        WoodDeckSF  OpenPorchSF  EnclosedPorch    3SsnPorch  ScreenPorch   \n",
       "count  2919.000000  2919.000000    2919.000000  2919.000000  2919.000000  \\\n",
       "mean     93.709832    47.486811      23.098321     2.602261    16.062350   \n",
       "std     126.526589    67.575493      64.244246    25.188169    56.184365   \n",
       "min       0.000000     0.000000       0.000000     0.000000     0.000000   \n",
       "25%       0.000000     0.000000       0.000000     0.000000     0.000000   \n",
       "50%       0.000000    26.000000       0.000000     0.000000     0.000000   \n",
       "75%     168.000000    70.000000       0.000000     0.000000     0.000000   \n",
       "max    1424.000000   742.000000    1012.000000   508.000000   576.000000   \n",
       "\n",
       "          PoolArea       MiscVal       MoSold       YrSold      SalePrice  \n",
       "count  2919.000000   2919.000000  2919.000000  2919.000000    1460.000000  \n",
       "mean      2.251799     50.825968     6.213087  2007.792737  180921.195890  \n",
       "std      35.663946    567.402211     2.714762     1.314964   79442.502883  \n",
       "min       0.000000      0.000000     1.000000  2006.000000   34900.000000  \n",
       "25%       0.000000      0.000000     4.000000  2007.000000  129975.000000  \n",
       "50%       0.000000      0.000000     6.000000  2008.000000  163000.000000  \n",
       "75%       0.000000      0.000000     8.000000  2009.000000  214000.000000  \n",
       "max     800.000000  17000.000000    12.000000  2010.000000  755000.000000  \n",
       "\n",
       "[8 rows x 38 columns]"
      ]
     },
     "execution_count": 25,
     "metadata": {},
     "output_type": "execute_result"
    }
   ],
   "source": [
    "df.describe()"
   ]
  },
  {
   "cell_type": "markdown",
   "id": "0ee98569-9d40-4ba9-bf2b-34a95a5d0e5a",
   "metadata": {
    "tags": []
   },
   "source": [
    "## Handling Missing Values"
   ]
  },
  {
   "cell_type": "markdown",
   "id": "fc13664d-e23f-4825-9948-f5683512be8e",
   "metadata": {
    "tags": []
   },
   "source": [
    "## Visualise Null/ Missing value"
   ]
  },
  {
   "cell_type": "code",
   "execution_count": 26,
   "id": "3e378454-1950-4d01-8199-0ba78f362bed",
   "metadata": {
    "tags": []
   },
   "outputs": [
    {
     "data": {
      "image/png": "[encoded data removed]",
      "text/plain": [
       "<Figure size 1600x900 with 2 Axes>"
      ]
     },
     "metadata": {},
     "output_type": "display_data"
    }
   ],
   "source": [
    "plt.figure(figsize=(16,9))\n",
    "sns.heatmap(df.isnull())\n",
    "plt.savefig(\"EDA_IMG/heatmap_df_of_null_values.png\")"
   ]
  },
  {
   "cell_type": "markdown",
   "id": "8aeaed83-413a-4f91-ac5a-5b5493eb7efa",
   "metadata": {
    "tags": []
   },
   "source": [
    "## Get the null value percentage for every feature"
   ]
  },
  {
   "cell_type": "code",
   "execution_count": 27,
   "id": "fb6bd9cb-7ad8-4e56-835e-8554126eef5d",
   "metadata": {
    "tags": []
   },
   "outputs": [],
   "source": [
    "#Set indexx as ID column\n",
    "df = df.set_index(\"Id\")"
   ]
  },
  {
   "cell_type": "code",
   "execution_count": 28,
   "id": "ebee8800-cb01-4c29-921f-0de5beaaa70f",
   "metadata": {
    "tags": []
   },
   "outputs": [],
   "source": [
    "null_percent = df.isnull().sum()"
   ]
  },
  {
   "cell_type": "code",
   "execution_count": 29,
   "id": "c4c12e51-c8e3-49ea-8343-e43ba0f6b56b",
   "metadata": {
    "tags": []
   },
   "outputs": [
    {
     "data": {
      "text/plain": [
       "MSSubClass          0\n",
       "MSZoning            4\n",
       "LotFrontage       486\n",
       "LotArea             0\n",
       "Street              0\n",
       "                 ... \n",
       "MoSold              0\n",
       "YrSold              0\n",
       "SaleType            1\n",
       "SaleCondition       0\n",
       "SalePrice        1459\n",
       "Length: 80, dtype: int64"
      ]
     },
     "execution_count": 29,
     "metadata": {},
     "output_type": "execute_result"
    }
   ],
   "source": [
    "null_count = df.isnull().sum()\n",
    "null_count"
   ]
  },
  {
   "cell_type": "code",
   "execution_count": 30,
   "id": "421210f2-b54a-4fd1-b251-1826231f5e40",
   "metadata": {
    "tags": []
   },
   "outputs": [
    {
     "data": {
      "text/plain": [
       "MSSubClass        0.000000\n",
       "MSZoning          0.137033\n",
       "LotFrontage      16.649538\n",
       "LotArea           0.000000\n",
       "Street            0.000000\n",
       "                   ...    \n",
       "MoSold            0.000000\n",
       "YrSold            0.000000\n",
       "SaleType          0.034258\n",
       "SaleCondition     0.000000\n",
       "SalePrice        49.982871\n",
       "Length: 80, dtype: float64"
      ]
     },
     "execution_count": 30,
     "metadata": {},
     "output_type": "execute_result"
    }
   ],
   "source": [
    "null_percent = df.isnull().sum()/df.shape[0] * 100\n",
    "null_percent"
   ]
  },
  {
   "cell_type": "markdown",
   "id": "cb835c21-f72c-4fe1-9739-23d898c322d1",
   "metadata": {
    "tags": []
   },
   "source": [
    "## Drop Columns/Features"
   ]
  },
  {
   "cell_type": "code",
   "execution_count": 31,
   "id": "184b692d-128d-498a-8f70-8c21af8c65db",
   "metadata": {
    "tags": []
   },
   "outputs": [
    {
     "data": {
      "text/plain": [
       "Alley          93.216855\n",
       "MasVnrType     60.500171\n",
       "PoolQC         99.657417\n",
       "Fence          80.438506\n",
       "MiscFeature    96.402878\n",
       "dtype: float64"
      ]
     },
     "execution_count": 31,
     "metadata": {},
     "output_type": "execute_result"
    }
   ],
   "source": [
    "miss_value_50_perc = null_percent[null_percent > 50]\n",
    "miss_value_50_perc"
   ]
  },
  {
   "cell_type": "markdown",
   "id": "500e7cce-1168-459f-afd0-6552bad1396b",
   "metadata": {
    "tags": []
   },
   "source": [
    "## Missing value Imputation"
   ]
  },
  {
   "cell_type": "code",
   "execution_count": 32,
   "id": "e447f745-9f7d-4782-876b-389f0c4ce5f6",
   "metadata": {
    "tags": []
   },
   "outputs": [
    {
     "name": "stdout",
     "output_type": "stream",
     "text": [
      "Total Value feature  35\n"
     ]
    }
   ],
   "source": [
    "missing_value_fea = null_percent[null_percent > 0]\n",
    "print(\"Total Value feature \", len(missing_value_fea))"
   ]
  },
  {
   "cell_type": "code",
   "execution_count": 33,
   "id": "a159880e-387c-4282-984c-1d61d3c3c11b",
   "metadata": {
    "tags": []
   },
   "outputs": [
    {
     "name": "stdout",
     "output_type": "stream",
     "text": [
      "total no of categorical missing features 23\n"
     ]
    },
    {
     "data": {
      "text/plain": [
       "MSZoning         0.137033\n",
       "Alley           93.216855\n",
       "Utilities        0.068517\n",
       "Exterior1st      0.034258\n",
       "Exterior2nd      0.034258\n",
       "MasVnrType      60.500171\n",
       "BsmtQual         2.774923\n",
       "BsmtCond         2.809181\n",
       "BsmtExposure     2.809181\n",
       "BsmtFinType1     2.706406\n",
       "BsmtFinType2     2.740665\n",
       "Electrical       0.034258\n",
       "KitchenQual      0.034258\n",
       "Functional       0.068517\n",
       "FireplaceQu     48.646797\n",
       "GarageType       5.378554\n",
       "GarageFinish     5.447071\n",
       "GarageQual       5.447071\n",
       "GarageCond       5.447071\n",
       "PoolQC          99.657417\n",
       "Fence           80.438506\n",
       "MiscFeature     96.402878\n",
       "SaleType         0.034258\n",
       "dtype: float64"
      ]
     },
     "execution_count": 33,
     "metadata": {},
     "output_type": "execute_result"
    }
   ],
   "source": [
    "cat_na_fea = missing_value_fea[missing_value_fea.keys().isin(cat_features)]\n",
    "print(\"total no of categorical missing features\", len(cat_na_fea))\n",
    "cat_na_fea"
   ]
  },
  {
   "cell_type": "code",
   "execution_count": 34,
   "id": "97e527ff-8f70-4ac6-9ec0-1b8c310dfbfc",
   "metadata": {
    "tags": []
   },
   "outputs": [
    {
     "name": "stdout",
     "output_type": "stream",
     "text": [
      "total no of integer missing features 0\n"
     ]
    },
    {
     "data": {
      "text/plain": [
       "Series([], dtype: float64)"
      ]
     },
     "execution_count": 34,
     "metadata": {},
     "output_type": "execute_result"
    }
   ],
   "source": [
    "int_na_fea = missing_value_fea[missing_value_fea.keys().isin(int_features)]\n",
    "print(\"total no of integer missing features\", len(int_na_fea))\n",
    "int_na_fea"
   ]
  },
  {
   "cell_type": "code",
   "execution_count": 35,
   "id": "7a32a260-8613-41ae-b3db-f7c02534549a",
   "metadata": {
    "tags": []
   },
   "outputs": [
    {
     "name": "stdout",
     "output_type": "stream",
     "text": [
      "total no of float missing features 12\n"
     ]
    },
    {
     "data": {
      "text/plain": [
       "LotFrontage     16.649538\n",
       "MasVnrArea       0.787941\n",
       "BsmtFinSF1       0.034258\n",
       "BsmtFinSF2       0.034258\n",
       "BsmtUnfSF        0.034258\n",
       "TotalBsmtSF      0.034258\n",
       "BsmtFullBath     0.068517\n",
       "BsmtHalfBath     0.068517\n",
       "GarageYrBlt      5.447071\n",
       "GarageCars       0.034258\n",
       "GarageArea       0.034258\n",
       "SalePrice       49.982871\n",
       "dtype: float64"
      ]
     },
     "execution_count": 35,
     "metadata": {},
     "output_type": "execute_result"
    }
   ],
   "source": [
    "float_na_fea = missing_value_fea[missing_value_fea.keys().isin(float_features)]\n",
    "print(\"total no of float missing features\", len(float_na_fea))\n",
    "float_na_fea"
   ]
  },
  {
   "cell_type": "markdown",
   "id": "e1e4fb3e-8363-4b2b-960d-a59d7ee963a0",
   "metadata": {
    "tags": []
   },
   "source": [
    "## Handling MSZoning"
   ]
  },
  {
   "cell_type": "code",
   "execution_count": 36,
   "id": "f53751b5-f366-4916-8ff8-4bde0cc1ed74",
   "metadata": {
    "tags": []
   },
   "outputs": [
    {
     "data": {
      "text/plain": [
       "MSZoning\n",
       "RL         2265\n",
       "RM          460\n",
       "FV          139\n",
       "RH           26\n",
       "C (all)      25\n",
       "Name: count, dtype: int64"
      ]
     },
     "execution_count": 36,
     "metadata": {},
     "output_type": "execute_result"
    }
   ],
   "source": [
    "df[\"MSZoning\"].value_counts()\n"
   ]
  },
  {
   "cell_type": "code",
   "execution_count": 37,
   "id": "feda1537-8802-4996-aa01-4931046e4afe",
   "metadata": {
    "tags": []
   },
   "outputs": [
    {
     "data": {
      "text/plain": [
       "(2919, 80)"
      ]
     },
     "execution_count": 37,
     "metadata": {},
     "output_type": "execute_result"
    }
   ],
   "source": [
    "## backup of original data\n",
    "df_mvi = df.copy()\n",
    "df_mvi.shape"
   ]
  },
  {
   "cell_type": "code",
   "execution_count": 38,
   "id": "fdc5a0e9-7c0c-44d6-9ee0-276ae3c9defa",
   "metadata": {
    "tags": []
   },
   "outputs": [
    {
     "data": {
      "text/plain": [
       "0"
      ]
     },
     "execution_count": 38,
     "metadata": {},
     "output_type": "execute_result"
    }
   ],
   "source": [
    "mszoning_mode = df[\"MSZoning\"].mode()[0]\n",
    "df_mvi[\"MSZoning\"].replace(np.nan, mszoning_mode, inplace=True)\n",
    "df_mvi[\"MSZoning\"].isnull().sum()"
   ]
  },
  {
   "cell_type": "code",
   "execution_count": 81,
   "id": "badab7bd-0fd0-416d-b164-7bf5d40619a7",
   "metadata": {
    "tags": []
   },
   "outputs": [
    {
     "ename": "KeyError",
     "evalue": "0",
     "output_type": "error",
     "traceback": [
      "\u001b[1;31m---------------------------------------------------------------------------\u001b[0m",
      "\u001b[1;31mKeyError\u001b[0m                                  Traceback (most recent call last)",
      "File \u001b[1;32m~\\AppData\\Roaming\\Python\\Python311\\site-packages\\pandas\\core\\indexes\\base.py:3652\u001b[0m, in \u001b[0;36mIndex.get_loc\u001b[1;34m(self, key)\u001b[0m\n\u001b[0;32m   3651\u001b[0m \u001b[38;5;28;01mtry\u001b[39;00m:\n\u001b[1;32m-> 3652\u001b[0m     \u001b[38;5;28;01mreturn\u001b[39;00m \u001b[38;5;28mself\u001b[39m\u001b[38;5;241m.\u001b[39m_engine\u001b[38;5;241m.\u001b[39mget_loc(casted_key)\n\u001b[0;32m   3653\u001b[0m \u001b[38;5;28;01mexcept\u001b[39;00m \u001b[38;5;167;01mKeyError\u001b[39;00m \u001b[38;5;28;01mas\u001b[39;00m err:\n",
      "File \u001b[1;32m~\\AppData\\Roaming\\Python\\Python311\\site-packages\\pandas\\_libs\\index.pyx:147\u001b[0m, in \u001b[0;36mpandas._libs.index.IndexEngine.get_loc\u001b[1;34m()\u001b[0m\n",
      "File \u001b[1;32m~\\AppData\\Roaming\\Python\\Python311\\site-packages\\pandas\\_libs\\index.pyx:176\u001b[0m, in \u001b[0;36mpandas._libs.index.IndexEngine.get_loc\u001b[1;34m()\u001b[0m\n",
      "File \u001b[1;32mpandas\\_libs\\hashtable_class_helper.pxi:2606\u001b[0m, in \u001b[0;36mpandas._libs.hashtable.Int64HashTable.get_item\u001b[1;34m()\u001b[0m\n",
      "File \u001b[1;32mpandas\\_libs\\hashtable_class_helper.pxi:2630\u001b[0m, in \u001b[0;36mpandas._libs.hashtable.Int64HashTable.get_item\u001b[1;34m()\u001b[0m\n",
      "\u001b[1;31mKeyError\u001b[0m: 0",
      "\nThe above exception was the direct cause of the following exception:\n",
      "\u001b[1;31mKeyError\u001b[0m                                  Traceback (most recent call last)",
      "Cell \u001b[1;32mIn[81], line 1\u001b[0m\n\u001b[1;32m----> 1\u001b[0m sns\u001b[38;5;241m.\u001b[39mcountplot(df_mvi[\u001b[38;5;124m\"\u001b[39m\u001b[38;5;124mMSZoning\u001b[39m\u001b[38;5;124m\"\u001b[39m])\n\u001b[0;32m      2\u001b[0m plt\u001b[38;5;241m.\u001b[39mshow()\n",
      "File \u001b[1;32m~\\anaconda3\\Lib\\site-packages\\seaborn\\categorical.py:2943\u001b[0m, in \u001b[0;36mcountplot\u001b[1;34m(data, x, y, hue, order, hue_order, orient, color, palette, saturation, width, dodge, ax, **kwargs)\u001b[0m\n\u001b[0;32m   2940\u001b[0m \u001b[38;5;28;01melif\u001b[39;00m x \u001b[38;5;129;01mis\u001b[39;00m \u001b[38;5;129;01mnot\u001b[39;00m \u001b[38;5;28;01mNone\u001b[39;00m \u001b[38;5;129;01mand\u001b[39;00m y \u001b[38;5;129;01mis\u001b[39;00m \u001b[38;5;129;01mnot\u001b[39;00m \u001b[38;5;28;01mNone\u001b[39;00m:\n\u001b[0;32m   2941\u001b[0m     \u001b[38;5;28;01mraise\u001b[39;00m \u001b[38;5;167;01mValueError\u001b[39;00m(\u001b[38;5;124m\"\u001b[39m\u001b[38;5;124mCannot pass values for both `x` and `y`\u001b[39m\u001b[38;5;124m\"\u001b[39m)\n\u001b[1;32m-> 2943\u001b[0m plotter \u001b[38;5;241m=\u001b[39m _CountPlotter(\n\u001b[0;32m   2944\u001b[0m     x, y, hue, data, order, hue_order,\n\u001b[0;32m   2945\u001b[0m     estimator, errorbar, n_boot, units, seed,\n\u001b[0;32m   2946\u001b[0m     orient, color, palette, saturation,\n\u001b[0;32m   2947\u001b[0m     width, errcolor, errwidth, capsize, dodge\n\u001b[0;32m   2948\u001b[0m )\n\u001b[0;32m   2950\u001b[0m plotter\u001b[38;5;241m.\u001b[39mvalue_label \u001b[38;5;241m=\u001b[39m \u001b[38;5;124m\"\u001b[39m\u001b[38;5;124mcount\u001b[39m\u001b[38;5;124m\"\u001b[39m\n\u001b[0;32m   2952\u001b[0m \u001b[38;5;28;01mif\u001b[39;00m ax \u001b[38;5;129;01mis\u001b[39;00m \u001b[38;5;28;01mNone\u001b[39;00m:\n",
      "File \u001b[1;32m~\\anaconda3\\Lib\\site-packages\\seaborn\\categorical.py:1530\u001b[0m, in \u001b[0;36m_BarPlotter.__init__\u001b[1;34m(self, x, y, hue, data, order, hue_order, estimator, errorbar, n_boot, units, seed, orient, color, palette, saturation, width, errcolor, errwidth, capsize, dodge)\u001b[0m\n\u001b[0;32m   1525\u001b[0m \u001b[38;5;28;01mdef\u001b[39;00m \u001b[38;5;21m__init__\u001b[39m(\u001b[38;5;28mself\u001b[39m, x, y, hue, data, order, hue_order,\n\u001b[0;32m   1526\u001b[0m              estimator, errorbar, n_boot, units, seed,\n\u001b[0;32m   1527\u001b[0m              orient, color, palette, saturation, width,\n\u001b[0;32m   1528\u001b[0m              errcolor, errwidth, capsize, dodge):\n\u001b[0;32m   1529\u001b[0m \u001b[38;5;250m    \u001b[39m\u001b[38;5;124;03m\"\"\"Initialize the plotter.\"\"\"\u001b[39;00m\n\u001b[1;32m-> 1530\u001b[0m     \u001b[38;5;28mself\u001b[39m\u001b[38;5;241m.\u001b[39mestablish_variables(x, y, hue, data, orient,\n\u001b[0;32m   1531\u001b[0m                              order, hue_order, units)\n\u001b[0;32m   1532\u001b[0m     \u001b[38;5;28mself\u001b[39m\u001b[38;5;241m.\u001b[39mestablish_colors(color, palette, saturation)\n\u001b[0;32m   1533\u001b[0m     \u001b[38;5;28mself\u001b[39m\u001b[38;5;241m.\u001b[39mestimate_statistic(estimator, errorbar, n_boot, seed)\n",
      "File \u001b[1;32m~\\anaconda3\\Lib\\site-packages\\seaborn\\categorical.py:486\u001b[0m, in \u001b[0;36m_CategoricalPlotter.establish_variables\u001b[1;34m(self, x, y, hue, data, orient, order, hue_order, units)\u001b[0m\n\u001b[0;32m    484\u001b[0m \u001b[38;5;28;01mif\u001b[39;00m \u001b[38;5;28mhasattr\u001b[39m(data, \u001b[38;5;124m\"\u001b[39m\u001b[38;5;124mshape\u001b[39m\u001b[38;5;124m\"\u001b[39m):\n\u001b[0;32m    485\u001b[0m     \u001b[38;5;28;01mif\u001b[39;00m \u001b[38;5;28mlen\u001b[39m(data\u001b[38;5;241m.\u001b[39mshape) \u001b[38;5;241m==\u001b[39m \u001b[38;5;241m1\u001b[39m:\n\u001b[1;32m--> 486\u001b[0m         \u001b[38;5;28;01mif\u001b[39;00m np\u001b[38;5;241m.\u001b[39misscalar(data[\u001b[38;5;241m0\u001b[39m]):\n\u001b[0;32m    487\u001b[0m             plot_data \u001b[38;5;241m=\u001b[39m [data]\n\u001b[0;32m    488\u001b[0m         \u001b[38;5;28;01melse\u001b[39;00m:\n",
      "File \u001b[1;32m~\\AppData\\Roaming\\Python\\Python311\\site-packages\\pandas\\core\\series.py:1007\u001b[0m, in \u001b[0;36mSeries.__getitem__\u001b[1;34m(self, key)\u001b[0m\n\u001b[0;32m   1004\u001b[0m     \u001b[38;5;28;01mreturn\u001b[39;00m \u001b[38;5;28mself\u001b[39m\u001b[38;5;241m.\u001b[39m_values[key]\n\u001b[0;32m   1006\u001b[0m \u001b[38;5;28;01melif\u001b[39;00m key_is_scalar:\n\u001b[1;32m-> 1007\u001b[0m     \u001b[38;5;28;01mreturn\u001b[39;00m \u001b[38;5;28mself\u001b[39m\u001b[38;5;241m.\u001b[39m_get_value(key)\n\u001b[0;32m   1009\u001b[0m \u001b[38;5;28;01mif\u001b[39;00m is_hashable(key):\n\u001b[0;32m   1010\u001b[0m     \u001b[38;5;66;03m# Otherwise index.get_value will raise InvalidIndexError\u001b[39;00m\n\u001b[0;32m   1011\u001b[0m     \u001b[38;5;28;01mtry\u001b[39;00m:\n\u001b[0;32m   1012\u001b[0m         \u001b[38;5;66;03m# For labels that don't resolve as scalars like tuples and frozensets\u001b[39;00m\n",
      "File \u001b[1;32m~\\AppData\\Roaming\\Python\\Python311\\site-packages\\pandas\\core\\series.py:1116\u001b[0m, in \u001b[0;36mSeries._get_value\u001b[1;34m(self, label, takeable)\u001b[0m\n\u001b[0;32m   1113\u001b[0m     \u001b[38;5;28;01mreturn\u001b[39;00m \u001b[38;5;28mself\u001b[39m\u001b[38;5;241m.\u001b[39m_values[label]\n\u001b[0;32m   1115\u001b[0m \u001b[38;5;66;03m# Similar to Index.get_value, but we do not fall back to positional\u001b[39;00m\n\u001b[1;32m-> 1116\u001b[0m loc \u001b[38;5;241m=\u001b[39m \u001b[38;5;28mself\u001b[39m\u001b[38;5;241m.\u001b[39mindex\u001b[38;5;241m.\u001b[39mget_loc(label)\n\u001b[0;32m   1118\u001b[0m \u001b[38;5;28;01mif\u001b[39;00m is_integer(loc):\n\u001b[0;32m   1119\u001b[0m     \u001b[38;5;28;01mreturn\u001b[39;00m \u001b[38;5;28mself\u001b[39m\u001b[38;5;241m.\u001b[39m_values[loc]\n",
      "File \u001b[1;32m~\\AppData\\Roaming\\Python\\Python311\\site-packages\\pandas\\core\\indexes\\base.py:3654\u001b[0m, in \u001b[0;36mIndex.get_loc\u001b[1;34m(self, key)\u001b[0m\n\u001b[0;32m   3652\u001b[0m     \u001b[38;5;28;01mreturn\u001b[39;00m \u001b[38;5;28mself\u001b[39m\u001b[38;5;241m.\u001b[39m_engine\u001b[38;5;241m.\u001b[39mget_loc(casted_key)\n\u001b[0;32m   3653\u001b[0m \u001b[38;5;28;01mexcept\u001b[39;00m \u001b[38;5;167;01mKeyError\u001b[39;00m \u001b[38;5;28;01mas\u001b[39;00m err:\n\u001b[1;32m-> 3654\u001b[0m     \u001b[38;5;28;01mraise\u001b[39;00m \u001b[38;5;167;01mKeyError\u001b[39;00m(key) \u001b[38;5;28;01mfrom\u001b[39;00m \u001b[38;5;21;01merr\u001b[39;00m\n\u001b[0;32m   3655\u001b[0m \u001b[38;5;28;01mexcept\u001b[39;00m \u001b[38;5;167;01mTypeError\u001b[39;00m:\n\u001b[0;32m   3656\u001b[0m     \u001b[38;5;66;03m# If we have a listlike key, _check_indexing_error will raise\u001b[39;00m\n\u001b[0;32m   3657\u001b[0m     \u001b[38;5;66;03m#  InvalidIndexError. Otherwise we fall through and re-raise\u001b[39;00m\n\u001b[0;32m   3658\u001b[0m     \u001b[38;5;66;03m#  the TypeError.\u001b[39;00m\n\u001b[0;32m   3659\u001b[0m     \u001b[38;5;28mself\u001b[39m\u001b[38;5;241m.\u001b[39m_check_indexing_error(key)\n",
      "\u001b[1;31mKeyError\u001b[0m: 0"
     ]
    }
   ],
   "source": [
    "sns.countplot(df_mvi[\"MSZoning\"])\n",
    "plt.show()"
   ]
  },
  {
   "cell_type": "code",
   "execution_count": 50,
   "id": "abc5054c-c7b7-469d-8613-e6130fa07148",
   "metadata": {
    "tags": []
   },
   "outputs": [
    {
     "name": "stdout",
     "output_type": "stream",
     "text": [
      "Index(['MSSubClass', 'MSZoning', 'LotFrontage', 'LotArea', 'Street', 'Alley',\n",
      "       'LotShape', 'LandContour', 'Utilities', 'LotConfig', 'LandSlope',\n",
      "       'Neighborhood', 'Condition1', 'Condition2', 'BldgType', 'HouseStyle',\n",
      "       'OverallQual', 'OverallCond', 'YearBuilt', 'YearRemodAdd', 'RoofStyle',\n",
      "       'RoofMatl', 'Exterior1st', 'Exterior2nd', 'MasVnrType', 'MasVnrArea',\n",
      "       'ExterQual', 'ExterCond', 'Foundation', 'BsmtQual', 'BsmtCond',\n",
      "       'BsmtExposure', 'BsmtFinType1', 'BsmtFinSF1', 'BsmtFinType2',\n",
      "       'BsmtFinSF2', 'BsmtUnfSF', 'TotalBsmtSF', 'Heating', 'HeatingQC',\n",
      "       'CentralAir', 'Electrical', '1stFlrSF', '2ndFlrSF', 'LowQualFinSF',\n",
      "       'GrLivArea', 'BsmtFullBath', 'BsmtHalfBath', 'FullBath', 'HalfBath',\n",
      "       'BedroomAbvGr', 'KitchenAbvGr', 'KitchenQual', 'TotRmsAbvGrd',\n",
      "       'Functional', 'Fireplaces', 'FireplaceQu', 'GarageType', 'GarageYrBlt',\n",
      "       'GarageFinish', 'GarageCars', 'GarageArea', 'GarageQual', 'GarageCond',\n",
      "       'PavedDrive', 'WoodDeckSF', 'OpenPorchSF', 'EnclosedPorch', '3SsnPorch',\n",
      "       'ScreenPorch', 'PoolArea', 'PoolQC', 'Fence', 'MiscFeature', 'MiscVal',\n",
      "       'MoSold', 'YrSold', 'SaleType', 'SaleCondition', 'SalePrice'],\n",
      "      dtype='object')\n"
     ]
    }
   ],
   "source": [
    "print(df_mvi.columns)\n"
   ]
  },
  {
   "cell_type": "code",
   "execution_count": 40,
   "id": "d8415db0-56f6-4758-aab4-376a5a1f6f2f",
   "metadata": {
    "tags": []
   },
   "outputs": [
    {
     "name": "stdout",
     "output_type": "stream",
     "text": [
      "0\n"
     ]
    }
   ],
   "source": [
    "print(df_mvi[\"MSZoning\"].isnull().sum())\n"
   ]
  },
  {
   "cell_type": "code",
   "execution_count": 41,
   "id": "12316f7b-b26f-48f8-9556-b78251522df0",
   "metadata": {
    "tags": []
   },
   "outputs": [
    {
     "name": "stdout",
     "output_type": "stream",
     "text": [
      "(2919, 80)\n"
     ]
    }
   ],
   "source": [
    "print(df_mvi.shape)\n"
   ]
  },
  {
   "cell_type": "code",
   "execution_count": 42,
   "id": "17c9417b-9d0a-4dd1-9442-89b08c215b6b",
   "metadata": {
    "tags": []
   },
   "outputs": [
    {
     "data": {
      "image/png": "[encoded data removed]",
      "text/plain": [
       "<Figure size 640x480 with 1 Axes>"
      ]
     },
     "metadata": {},
     "output_type": "display_data"
    }
   ],
   "source": [
    "import seaborn as sns\n",
    "import matplotlib.pyplot as plt\n",
    "\n",
    "# Assuming \"MSZoning\" is a valid column in your DataFrame df_mvi\n",
    "sns.countplot(x=\"MSZoning\", data=df_mvi)\n",
    "plt.show()\n"
   ]
  },
  {
   "cell_type": "code",
   "execution_count": 43,
   "id": "4e655d02-dedb-4550-8da0-aa1293d9c21a",
   "metadata": {
    "tags": []
   },
   "outputs": [
    {
     "data": {
      "image/png": "[encoded data removed]",
      "text/plain": [
       "<Figure size 640x480 with 2 Axes>"
      ]
     },
     "metadata": {},
     "output_type": "display_data"
    }
   ],
   "source": [
    "import seaborn as sns\n",
    "import matplotlib.pyplot as plt\n",
    "\n",
    "def oldNewCountPlot(df, df_new, feature):\n",
    "    plt.subplot(121)\n",
    "    sns.countplot(x=feature, data=df)\n",
    "    plt.title(\"Old data distribution\")\n",
    "    \n",
    "    plt.subplot(122)\n",
    "    sns.countplot(x=feature, data=df_new)\n",
    "    plt.title(\"New data distribution\")\n",
    "\n",
    "    plt.show()\n",
    "\n",
    "# Example usage\n",
    "oldNewCountPlot(df, df_mvi, \"MSZoning\")\n"
   ]
  },
  {
   "cell_type": "markdown",
   "id": "3b403d98-5636-470e-8990-660cbd480387",
   "metadata": {
    "tags": []
   },
   "source": [
    "## Handling Alley"
   ]
  },
  {
   "cell_type": "code",
   "execution_count": 44,
   "id": "aa53c4a7-9bae-42ed-84c3-c3f48aa9071d",
   "metadata": {
    "tags": []
   },
   "outputs": [
    {
     "data": {
      "text/plain": [
       "Alley\n",
       "Grvl    120\n",
       "Pave     78\n",
       "Name: count, dtype: int64"
      ]
     },
     "execution_count": 44,
     "metadata": {},
     "output_type": "execute_result"
    }
   ],
   "source": [
    "df_mvi[\"Alley\"].value_counts()"
   ]
  },
  {
   "cell_type": "code",
   "execution_count": 45,
   "id": "41d517f1-4c7c-4847-bae3-2a52f2533a83",
   "metadata": {
    "tags": []
   },
   "outputs": [
    {
     "data": {
      "text/plain": [
       "0"
      ]
     },
     "execution_count": 45,
     "metadata": {},
     "output_type": "execute_result"
    }
   ],
   "source": [
    "alley_cont = \"NA\"\n",
    "df_mvi[\"Alley\"].replace(np.nan, alley_cont, inplace=True)\n",
    "df_mvi[\"Alley\"].isnull().sum()\n"
   ]
  },
  {
   "cell_type": "code",
   "execution_count": 46,
   "id": "30fdd93e-a54a-4b20-869b-de1ee0651b1c",
   "metadata": {
    "tags": []
   },
   "outputs": [
    {
     "data": {
      "image/png": "[encoded data removed]",
      "text/plain": [
       "<Figure size 640x480 with 2 Axes>"
      ]
     },
     "metadata": {},
     "output_type": "display_data"
    }
   ],
   "source": [
    "oldNewCountPlot(df, df_mvi, \"Alley\")"
   ]
  },
  {
   "cell_type": "markdown",
   "id": "6055c92d-6f94-48f3-b23f-1f28e26b829e",
   "metadata": {},
   "source": [
    "## Handling LotFrontage"
   ]
  },
  {
   "cell_type": "code",
   "execution_count": 49,
   "id": "e13ba196-0fcb-45cb-bee4-a8770293040b",
   "metadata": {
    "tags": []
   },
   "outputs": [
    {
     "name": "stderr",
     "output_type": "stream",
     "text": [
      "C:\\Users\\Prerna\\AppData\\Local\\Temp\\ipykernel_2088\\2449983406.py:15: UserWarning: \n",
      "\n",
      "`distplot` is a deprecated function and will be removed in seaborn v0.14.0.\n",
      "\n",
      "Please adapt your code to use either `displot` (a figure-level function with\n",
      "similar flexibility) or `histplot` (an axes-level function for histograms).\n",
      "\n",
      "For a guide to updating your code to use the new functions, please see\n",
      "https://gist.github.com/mwaskom/de44147ed2974457ad6372750bbe5751\n",
      "\n",
      "  sns.distplot(df)\n"
     ]
    },
    {
     "data": {
      "image/png": "[encoded data removed]",
      "text/plain": [
       "<Figure size 1600x500 with 2 Axes>"
      ]
     },
     "metadata": {},
     "output_type": "display_data"
    }
   ],
   "source": [
    "# Assuming you have a DataFrame named df\n",
    "import seaborn as sns\n",
    "import matplotlib.pyplot as plt\n",
    "\n",
    "def boxHistPlot(df, figsize=(16, 5)):\n",
    "    plt.figure(figsize=figsize)\n",
    "    \n",
    "    # Boxplot\n",
    "    plt.subplot(121)\n",
    "    sns.boxplot(x=df)\n",
    "    plt.title(\"Boxplot\")\n",
    "\n",
    "    # Histogram\n",
    "    plt.subplot(122)\n",
    "    sns.distplot(df)\n",
    "    plt.title(\"Histogram\")\n",
    "\n",
    "    plt.show()\n",
    "\n",
    "# Example usage\n",
    "boxHistPlot(df[\"LotFrontage\"])\n"
   ]
  },
  {
   "cell_type": "code",
   "execution_count": 52,
   "id": "fbd15f75-20f9-4733-abfb-0b5d93205788",
   "metadata": {
    "tags": []
   },
   "outputs": [
    {
     "data": {
      "text/plain": [
       "0"
      ]
     },
     "execution_count": 52,
     "metadata": {},
     "output_type": "execute_result"
    }
   ],
   "source": [
    "lotfrontage_mean = df[\"LotFrontage\"].mean()\n",
    "df_mvi[\"LotFrontage\"].replace(np.nan, lotfrontage_mean, inplace = True)\n",
    "df_mvi[\"LotFrontage\"].isnull().sum()"
   ]
  },
  {
   "cell_type": "code",
   "execution_count": 55,
   "id": "9f6e6836-ddd8-4195-85de-beb8b557512d",
   "metadata": {
    "tags": []
   },
   "outputs": [],
   "source": [
    "def oldNewBoxPlot(df, df_new, feature):\n",
    "    plt.subplot(221)\n",
    "    sns.boxplot(df[feature])\n",
    "    plt.title(\"Old Data Distribution\")\n",
    "    plt.subplot(222)\n",
    "    sns.distplot(df[feature])\n",
    "    plt.title(\"Old data distribution\")\n",
    "    \n",
    "    plt.subplot(223)\n",
    "    sns.boxplot(df_new[feature])\n",
    "    plt.title(\"New Data Distribution\")\n",
    "    plt.subplot(224)\n",
    "    sns.distplot(df_new[feature])\n",
    "    plt.title(\"New data distribution\")"
   ]
  },
  {
   "cell_type": "code",
   "execution_count": 79,
   "id": "2f426dfb-d8f7-4df2-9a1e-5c2e8cba33b8",
   "metadata": {
    "tags": []
   },
   "outputs": [
    {
     "name": "stderr",
     "output_type": "stream",
     "text": [
      "C:\\Users\\Prerna\\AppData\\Local\\Temp\\ipykernel_2088\\134716207.py:7: UserWarning: \n",
      "\n",
      "`distplot` is a deprecated function and will be removed in seaborn v0.14.0.\n",
      "\n",
      "Please adapt your code to use either `displot` (a figure-level function with\n",
      "similar flexibility) or `histplot` (an axes-level function for histograms).\n",
      "\n",
      "For a guide to updating your code to use the new functions, please see\n",
      "https://gist.github.com/mwaskom/de44147ed2974457ad6372750bbe5751\n",
      "\n",
      "  sns.distplot(df[feature])  # Reset the index\n",
      "C:\\Users\\Prerna\\AppData\\Local\\Temp\\ipykernel_2088\\134716207.py:14: UserWarning: \n",
      "\n",
      "`distplot` is a deprecated function and will be removed in seaborn v0.14.0.\n",
      "\n",
      "Please adapt your code to use either `displot` (a figure-level function with\n",
      "similar flexibility) or `histplot` (an axes-level function for histograms).\n",
      "\n",
      "For a guide to updating your code to use the new functions, please see\n",
      "https://gist.github.com/mwaskom/de44147ed2974457ad6372750bbe5751\n",
      "\n",
      "  sns.distplot(df_new[feature])  # Reset the index\n"
     ]
    },
    {
     "data": {
      "image/png": "[encoded data removed]",
      "text/plain": [
       "<Figure size 1600x1000 with 4 Axes>"
      ]
     },
     "metadata": {},
     "output_type": "display_data"
    }
   ],
   "source": [
    "def oldNewBoxPlot(df, df_new, feature, figsize=(16,10)):\n",
    "    plt.figure(figsize=figsize)\n",
    "    plt.subplot(221)\n",
    "    sns.boxplot(x=feature, data=df.reset_index(drop=True))  # Reset the index\n",
    "    plt.title(\"Old Data Distribution\")\n",
    "    plt.subplot(222)\n",
    "    sns.distplot(df[feature])  # Reset the index\n",
    "    plt.title(\"Old Data Distribution\")\n",
    "    \n",
    "    plt.subplot(223)\n",
    "    sns.boxplot(x=feature, data=df_new.reset_index(drop=True))  # Reset the index\n",
    "    plt.title(\"New Data Distribution\")\n",
    "    plt.subplot(224)\n",
    "    sns.distplot(df_new[feature])  # Reset the index\n",
    "    plt.title(\"New Data Distribution\")\n",
    "    \n",
    "\n",
    "    plt.show()\n",
    "\n",
    "# Example usage\n",
    "oldNewBoxPlot(df, df_mvi, \"LotFrontage\")\n"
   ]
  },
  {
   "cell_type": "markdown",
   "id": "eddb1769-b776-4339-8a4c-149cc8e293b7",
   "metadata": {},
   "source": [
    "## Handling Utilities"
   ]
  },
  {
   "cell_type": "code",
   "execution_count": 65,
   "id": "07c14588-431d-443b-a9f5-5543d7df112d",
   "metadata": {
    "tags": []
   },
   "outputs": [
    {
     "data": {
      "text/plain": [
       "Utilities\n",
       "AllPub    2916\n",
       "NoSeWa       1\n",
       "Name: count, dtype: int64"
      ]
     },
     "execution_count": 65,
     "metadata": {},
     "output_type": "execute_result"
    }
   ],
   "source": [
    "df[\"Utilities\"].value_counts()"
   ]
  },
  {
   "cell_type": "code",
   "execution_count": 68,
   "id": "7be15a50-9f08-44f5-9daf-c16c945836d1",
   "metadata": {
    "tags": []
   },
   "outputs": [
    {
     "data": {
      "text/plain": [
       "0"
      ]
     },
     "execution_count": 68,
     "metadata": {},
     "output_type": "execute_result"
    }
   ],
   "source": [
    "utilities_mode = df[\"Utilities\"].mode()[0]\n",
    "df_mvi[\"Utilities\"].replace(np.nan, utilities_mode, inplace = True)\n",
    "df_mvi[\"Utilities\"].isnull().sum()"
   ]
  },
  {
   "cell_type": "markdown",
   "id": "ed025b0e-2a25-418b-b5d7-3073b106ecfe",
   "metadata": {
    "tags": []
   },
   "source": [
    "## Handling Exteriior 1st and Exxterior 2nd"
   ]
  },
  {
   "cell_type": "code",
   "execution_count": 71,
   "id": "d73909f7-0525-4bda-9893-94b08704ff3f",
   "metadata": {
    "tags": []
   },
   "outputs": [
    {
     "data": {
      "text/plain": [
       "Exterior1st\n",
       "VinylSd    1025\n",
       "MetalSd     450\n",
       "HdBoard     442\n",
       "Wd Sdng     411\n",
       "Plywood     221\n",
       "CemntBd     126\n",
       "BrkFace      87\n",
       "WdShing      56\n",
       "AsbShng      44\n",
       "Stucco       43\n",
       "BrkComm       6\n",
       "AsphShn       2\n",
       "Stone         2\n",
       "CBlock        2\n",
       "ImStucc       1\n",
       "Name: count, dtype: int64"
      ]
     },
     "execution_count": 71,
     "metadata": {},
     "output_type": "execute_result"
    }
   ],
   "source": [
    "df[\"Exterior1st\"].value_counts()\n"
   ]
  },
  {
   "cell_type": "code",
   "execution_count": 72,
   "id": "4e372c3b-975d-4770-8138-e3ec462b6888",
   "metadata": {
    "tags": []
   },
   "outputs": [
    {
     "data": {
      "text/plain": [
       "Exterior2nd\n",
       "VinylSd    1014\n",
       "MetalSd     447\n",
       "HdBoard     406\n",
       "Wd Sdng     391\n",
       "Plywood     270\n",
       "CmentBd     126\n",
       "Wd Shng      81\n",
       "BrkFace      47\n",
       "Stucco       47\n",
       "AsbShng      38\n",
       "Brk Cmn      22\n",
       "ImStucc      15\n",
       "Stone         6\n",
       "AsphShn       4\n",
       "CBlock        3\n",
       "Other         1\n",
       "Name: count, dtype: int64"
      ]
     },
     "execution_count": 72,
     "metadata": {},
     "output_type": "execute_result"
    }
   ],
   "source": [
    "df[\"Exterior2nd\"].value_counts()"
   ]
  },
  {
   "cell_type": "code",
   "execution_count": 73,
   "id": "f3899da1-3814-484d-b89b-5a97e37b567f",
   "metadata": {
    "tags": []
   },
   "outputs": [
    {
     "data": {
      "text/plain": [
       "0"
      ]
     },
     "execution_count": 73,
     "metadata": {},
     "output_type": "execute_result"
    }
   ],
   "source": [
    "exterior1st_mode = df[\"Exterior1st\"].mode()[0]\n",
    "exterior2nd_mode = df[\"Exterior2nd\"].mode()[0]\n",
    "df_mvi[\"Exterior1st\"].replace(np.nan, utilities_mode, inplace = True)\n",
    "df_mvi[\"Exterior2nd\"].replace(np.nan, utilities_mode, inplace = True)\n",
    "df_mvi[\"Exterior1st\"].isnull().sum()\n",
    "df_mvi[\"Exterior2nd\"].isnull().sum()"
   ]
  },
  {
   "cell_type": "markdown",
   "id": "875a1d4d-5c9b-4db7-b2ae-bd32a2253968",
   "metadata": {},
   "source": [
    "## HAndling MasVnrType & MasVnrArea"
   ]
  },
  {
   "cell_type": "code",
   "execution_count": 74,
   "id": "edeccbc7-1340-45c9-a8e1-26106e009f54",
   "metadata": {
    "tags": []
   },
   "outputs": [
    {
     "data": {
      "text/plain": [
       "<Axes: ylabel='Id'>"
      ]
     },
     "execution_count": 74,
     "metadata": {},
     "output_type": "execute_result"
    },
    {
     "data": {
      "image/png": "[encoded data removed]",
      "text/plain": [
       "<Figure size 640x480 with 2 Axes>"
      ]
     },
     "metadata": {},
     "output_type": "display_data"
    }
   ],
   "source": [
    "sns.heatmap(df[[\"MasVnrType\",\"MasVnrArea\"]].isnull())"
   ]
  },
  {
   "cell_type": "code",
   "execution_count": 75,
   "id": "96adc439-57df-4097-8050-6cacc5aed954",
   "metadata": {
    "tags": []
   },
   "outputs": [
    {
     "data": {
      "text/plain": [
       "0"
      ]
     },
     "execution_count": 75,
     "metadata": {},
     "output_type": "execute_result"
    }
   ],
   "source": [
    "masvnrtype_mode = df[\"MasVnrType\"].mode()[0]\n",
    "df_mvi[\"MasVnrType\"].replace(np.nan, masvnrtype_mode, inplace= True)\n",
    "df_mvi[\"MasVnrType\"].isnull().sum()"
   ]
  },
  {
   "cell_type": "code",
   "execution_count": 76,
   "id": "afc024d0-9a99-4895-a584-78b98a874a8a",
   "metadata": {
    "tags": []
   },
   "outputs": [
    {
     "name": "stderr",
     "output_type": "stream",
     "text": [
      "C:\\Users\\Prerna\\AppData\\Local\\Temp\\ipykernel_2088\\2449983406.py:15: UserWarning: \n",
      "\n",
      "`distplot` is a deprecated function and will be removed in seaborn v0.14.0.\n",
      "\n",
      "Please adapt your code to use either `displot` (a figure-level function with\n",
      "similar flexibility) or `histplot` (an axes-level function for histograms).\n",
      "\n",
      "For a guide to updating your code to use the new functions, please see\n",
      "https://gist.github.com/mwaskom/de44147ed2974457ad6372750bbe5751\n",
      "\n",
      "  sns.distplot(df)\n"
     ]
    },
    {
     "data": {
      "image/png": "[encoded data removed]",
      "text/plain": [
       "<Figure size 1600x500 with 2 Axes>"
      ]
     },
     "metadata": {},
     "output_type": "display_data"
    }
   ],
   "source": [
    "boxHistPlot(df[\"MasVnrArea\"])"
   ]
  },
  {
   "cell_type": "code",
   "execution_count": 77,
   "id": "d9b15456-20a1-4b4a-854e-402b3ad5ed0b",
   "metadata": {
    "tags": []
   },
   "outputs": [
    {
     "data": {
      "text/plain": [
       "0"
      ]
     },
     "execution_count": 77,
     "metadata": {},
     "output_type": "execute_result"
    }
   ],
   "source": [
    "masvnrarea_cont = 0\n",
    "df_mvi[\"MasVnrArea\"].replace(np.nan, masvnrarea_cont, inplace=True)\n",
    "df_mvi[\"MasVnrArea\"].isnull().sum()"
   ]
  },
  {
   "cell_type": "markdown",
   "id": "fd409dbe-b962-418c-83e9-3ba4dd104771",
   "metadata": {
    "tags": []
   },
   "source": [
    "## Handling all bsmt features (int + categorical)"
   ]
  },
  {
   "cell_type": "code",
   "execution_count": 82,
   "id": "25c78bed-5f88-4c7f-9a9b-a67d028138e5",
   "metadata": {
    "tags": []
   },
   "outputs": [],
   "source": [
    "cat_bsmt_feat = [\"BsmtQual\",\"BsmtCond\",\"BsmtExposure\",\"BsmtFinType1\",\"BsmtFinType2\"]\n",
    "num_bsmt_feat =[\"BsmtFinSF1\",\"BsmtFinSF2\",\"BsmtUnfSF\",\"TotalBsmtSF\",\"BsmtFullBath\",\"BsmtHalfBath\"]\n"
   ]
  },
  {
   "cell_type": "code",
   "execution_count": 83,
   "id": "596ee325-e575-4193-bf99-18adf39a8939",
   "metadata": {
    "tags": []
   },
   "outputs": [
    {
     "data": {
      "text/plain": [
       "<Axes: ylabel='Id'>"
      ]
     },
     "execution_count": 83,
     "metadata": {},
     "output_type": "execute_result"
    },
    {
     "data": {
      "image/png": "[encoded data removed]",
      "text/plain": [
       "<Figure size 640x480 with 2 Axes>"
      ]
     },
     "metadata": {},
     "output_type": "display_data"
    }
   ],
   "source": [
    "sns.heatmap(df[cat_bsmt_feat].isnull())"
   ]
  },
  {
   "cell_type": "code",
   "execution_count": 84,
   "id": "91c51630-d467-437b-8db7-57577b9e2d6f",
   "metadata": {
    "tags": []
   },
   "outputs": [
    {
     "name": "stdout",
     "output_type": "stream",
     "text": [
      "value count of BsmtQual : BsmtQual\n",
      "TA    1283\n",
      "Gd    1209\n",
      "Ex     258\n",
      "Fa      88\n",
      "Name: count, dtype: int64\n",
      "value count of BsmtCond : BsmtCond\n",
      "TA    2606\n",
      "Gd     122\n",
      "Fa     104\n",
      "Po       5\n",
      "Name: count, dtype: int64\n",
      "value count of BsmtExposure : BsmtExposure\n",
      "No    1904\n",
      "Av     418\n",
      "Gd     276\n",
      "Mn     239\n",
      "Name: count, dtype: int64\n",
      "value count of BsmtFinType1 : BsmtFinType1\n",
      "Unf    851\n",
      "GLQ    849\n",
      "ALQ    429\n",
      "Rec    288\n",
      "BLQ    269\n",
      "LwQ    154\n",
      "Name: count, dtype: int64\n",
      "value count of BsmtFinType2 : BsmtFinType2\n",
      "Unf    2493\n",
      "Rec     105\n",
      "LwQ      87\n",
      "BLQ      68\n",
      "ALQ      52\n",
      "GLQ      34\n",
      "Name: count, dtype: int64\n"
     ]
    }
   ],
   "source": [
    "for feat in cat_bsmt_feat:\n",
    "    print (f\"value count of {feat} : {df[feat].value_counts()}\")"
   ]
  },
  {
   "cell_type": "code",
   "execution_count": 85,
   "id": "e1544806-a1ba-42b4-a9fd-5241ab17a081",
   "metadata": {
    "tags": []
   },
   "outputs": [],
   "source": [
    "bsmt_cont = \"NA\"\n",
    "for feat in cat_bsmt_feat:\n",
    "    df_mvi[feat].replace(np.nan,bsmt_cont, inplace = True)"
   ]
  },
  {
   "cell_type": "code",
   "execution_count": 86,
   "id": "c1cfff1b-793d-4633-8ece-38cfbed374e6",
   "metadata": {
    "tags": []
   },
   "outputs": [
    {
     "data": {
      "text/plain": [
       "BsmtQual        0\n",
       "BsmtCond        0\n",
       "BsmtExposure    0\n",
       "BsmtFinType1    0\n",
       "BsmtFinType2    0\n",
       "dtype: int64"
      ]
     },
     "execution_count": 86,
     "metadata": {},
     "output_type": "execute_result"
    }
   ],
   "source": [
    "df_mvi[cat_bsmt_feat].isnull().sum()"
   ]
  },
  {
   "cell_type": "code",
   "execution_count": 87,
   "id": "81ac777e-d0bb-4306-b9af-40dabfaff6b7",
   "metadata": {
    "tags": []
   },
   "outputs": [
    {
     "data": {
      "text/plain": [
       "<Axes: ylabel='Id'>"
      ]
     },
     "execution_count": 87,
     "metadata": {},
     "output_type": "execute_result"
    },
    {
     "data": {
      "image/png": "[encoded data removed]",
      "text/plain": [
       "<Figure size 640x480 with 2 Axes>"
      ]
     },
     "metadata": {},
     "output_type": "display_data"
    }
   ],
   "source": [
    "sns.heatmap(df[num_bsmt_feat].isnull())"
   ]
  },
  {
   "cell_type": "code",
   "execution_count": 91,
   "id": "4db2bad9-8847-4be1-87d3-c523744a2031",
   "metadata": {
    "tags": []
   },
   "outputs": [
    {
     "data": {
      "text/html": [
       "<div>\n",
       "<style scoped>\n",
       "    .dataframe tbody tr th:only-of-type {\n",
       "        vertical-align: middle;\n",
       "    }\n",
       "\n",
       "    .dataframe tbody tr th {\n",
       "        vertical-align: top;\n",
       "    }\n",
       "\n",
       "    .dataframe thead th {\n",
       "        text-align: right;\n",
       "    }\n",
       "</style>\n",
       "<table border=\"1\" class=\"dataframe\">\n",
       "  <thead>\n",
       "    <tr style=\"text-align: right;\">\n",
       "      <th></th>\n",
       "      <th>BsmtQual</th>\n",
       "      <th>BsmtCond</th>\n",
       "      <th>BsmtExposure</th>\n",
       "      <th>BsmtFinType1</th>\n",
       "      <th>BsmtFinType2</th>\n",
       "      <th>BsmtFinSF1</th>\n",
       "      <th>BsmtFinSF2</th>\n",
       "      <th>BsmtUnfSF</th>\n",
       "      <th>TotalBsmtSF</th>\n",
       "      <th>BsmtFullBath</th>\n",
       "      <th>BsmtHalfBath</th>\n",
       "    </tr>\n",
       "    <tr>\n",
       "      <th>Id</th>\n",
       "      <th></th>\n",
       "      <th></th>\n",
       "      <th></th>\n",
       "      <th></th>\n",
       "      <th></th>\n",
       "      <th></th>\n",
       "      <th></th>\n",
       "      <th></th>\n",
       "      <th></th>\n",
       "      <th></th>\n",
       "      <th></th>\n",
       "    </tr>\n",
       "  </thead>\n",
       "  <tbody>\n",
       "    <tr>\n",
       "      <th>18</th>\n",
       "      <td>NaN</td>\n",
       "      <td>NaN</td>\n",
       "      <td>NaN</td>\n",
       "      <td>NaN</td>\n",
       "      <td>NaN</td>\n",
       "      <td>0.0</td>\n",
       "      <td>0.0</td>\n",
       "      <td>0.0</td>\n",
       "      <td>0.0</td>\n",
       "      <td>0.0</td>\n",
       "      <td>0.0</td>\n",
       "    </tr>\n",
       "    <tr>\n",
       "      <th>40</th>\n",
       "      <td>NaN</td>\n",
       "      <td>NaN</td>\n",
       "      <td>NaN</td>\n",
       "      <td>NaN</td>\n",
       "      <td>NaN</td>\n",
       "      <td>0.0</td>\n",
       "      <td>0.0</td>\n",
       "      <td>0.0</td>\n",
       "      <td>0.0</td>\n",
       "      <td>0.0</td>\n",
       "      <td>0.0</td>\n",
       "    </tr>\n",
       "    <tr>\n",
       "      <th>91</th>\n",
       "      <td>NaN</td>\n",
       "      <td>NaN</td>\n",
       "      <td>NaN</td>\n",
       "      <td>NaN</td>\n",
       "      <td>NaN</td>\n",
       "      <td>0.0</td>\n",
       "      <td>0.0</td>\n",
       "      <td>0.0</td>\n",
       "      <td>0.0</td>\n",
       "      <td>0.0</td>\n",
       "      <td>0.0</td>\n",
       "    </tr>\n",
       "    <tr>\n",
       "      <th>103</th>\n",
       "      <td>NaN</td>\n",
       "      <td>NaN</td>\n",
       "      <td>NaN</td>\n",
       "      <td>NaN</td>\n",
       "      <td>NaN</td>\n",
       "      <td>0.0</td>\n",
       "      <td>0.0</td>\n",
       "      <td>0.0</td>\n",
       "      <td>0.0</td>\n",
       "      <td>0.0</td>\n",
       "      <td>0.0</td>\n",
       "    </tr>\n",
       "    <tr>\n",
       "      <th>157</th>\n",
       "      <td>NaN</td>\n",
       "      <td>NaN</td>\n",
       "      <td>NaN</td>\n",
       "      <td>NaN</td>\n",
       "      <td>NaN</td>\n",
       "      <td>0.0</td>\n",
       "      <td>0.0</td>\n",
       "      <td>0.0</td>\n",
       "      <td>0.0</td>\n",
       "      <td>0.0</td>\n",
       "      <td>0.0</td>\n",
       "    </tr>\n",
       "    <tr>\n",
       "      <th>...</th>\n",
       "      <td>...</td>\n",
       "      <td>...</td>\n",
       "      <td>...</td>\n",
       "      <td>...</td>\n",
       "      <td>...</td>\n",
       "      <td>...</td>\n",
       "      <td>...</td>\n",
       "      <td>...</td>\n",
       "      <td>...</td>\n",
       "      <td>...</td>\n",
       "      <td>...</td>\n",
       "    </tr>\n",
       "    <tr>\n",
       "      <th>2804</th>\n",
       "      <td>NaN</td>\n",
       "      <td>NaN</td>\n",
       "      <td>NaN</td>\n",
       "      <td>NaN</td>\n",
       "      <td>NaN</td>\n",
       "      <td>0.0</td>\n",
       "      <td>0.0</td>\n",
       "      <td>0.0</td>\n",
       "      <td>0.0</td>\n",
       "      <td>0.0</td>\n",
       "      <td>0.0</td>\n",
       "    </tr>\n",
       "    <tr>\n",
       "      <th>2805</th>\n",
       "      <td>NaN</td>\n",
       "      <td>NaN</td>\n",
       "      <td>NaN</td>\n",
       "      <td>NaN</td>\n",
       "      <td>NaN</td>\n",
       "      <td>0.0</td>\n",
       "      <td>0.0</td>\n",
       "      <td>0.0</td>\n",
       "      <td>0.0</td>\n",
       "      <td>0.0</td>\n",
       "      <td>0.0</td>\n",
       "    </tr>\n",
       "    <tr>\n",
       "      <th>2825</th>\n",
       "      <td>NaN</td>\n",
       "      <td>NaN</td>\n",
       "      <td>NaN</td>\n",
       "      <td>NaN</td>\n",
       "      <td>NaN</td>\n",
       "      <td>0.0</td>\n",
       "      <td>0.0</td>\n",
       "      <td>0.0</td>\n",
       "      <td>0.0</td>\n",
       "      <td>0.0</td>\n",
       "      <td>0.0</td>\n",
       "    </tr>\n",
       "    <tr>\n",
       "      <th>2892</th>\n",
       "      <td>NaN</td>\n",
       "      <td>NaN</td>\n",
       "      <td>NaN</td>\n",
       "      <td>NaN</td>\n",
       "      <td>NaN</td>\n",
       "      <td>0.0</td>\n",
       "      <td>0.0</td>\n",
       "      <td>0.0</td>\n",
       "      <td>0.0</td>\n",
       "      <td>0.0</td>\n",
       "      <td>0.0</td>\n",
       "    </tr>\n",
       "    <tr>\n",
       "      <th>2905</th>\n",
       "      <td>NaN</td>\n",
       "      <td>NaN</td>\n",
       "      <td>NaN</td>\n",
       "      <td>NaN</td>\n",
       "      <td>NaN</td>\n",
       "      <td>0.0</td>\n",
       "      <td>0.0</td>\n",
       "      <td>0.0</td>\n",
       "      <td>0.0</td>\n",
       "      <td>0.0</td>\n",
       "      <td>0.0</td>\n",
       "    </tr>\n",
       "  </tbody>\n",
       "</table>\n",
       "<p>88 rows × 11 columns</p>\n",
       "</div>"
      ],
      "text/plain": [
       "     BsmtQual BsmtCond BsmtExposure BsmtFinType1 BsmtFinType2  BsmtFinSF1   \n",
       "Id                                                                          \n",
       "18        NaN      NaN          NaN          NaN          NaN         0.0  \\\n",
       "40        NaN      NaN          NaN          NaN          NaN         0.0   \n",
       "91        NaN      NaN          NaN          NaN          NaN         0.0   \n",
       "103       NaN      NaN          NaN          NaN          NaN         0.0   \n",
       "157       NaN      NaN          NaN          NaN          NaN         0.0   \n",
       "...       ...      ...          ...          ...          ...         ...   \n",
       "2804      NaN      NaN          NaN          NaN          NaN         0.0   \n",
       "2805      NaN      NaN          NaN          NaN          NaN         0.0   \n",
       "2825      NaN      NaN          NaN          NaN          NaN         0.0   \n",
       "2892      NaN      NaN          NaN          NaN          NaN         0.0   \n",
       "2905      NaN      NaN          NaN          NaN          NaN         0.0   \n",
       "\n",
       "      BsmtFinSF2  BsmtUnfSF  TotalBsmtSF  BsmtFullBath  BsmtHalfBath  \n",
       "Id                                                                    \n",
       "18           0.0        0.0          0.0           0.0           0.0  \n",
       "40           0.0        0.0          0.0           0.0           0.0  \n",
       "91           0.0        0.0          0.0           0.0           0.0  \n",
       "103          0.0        0.0          0.0           0.0           0.0  \n",
       "157          0.0        0.0          0.0           0.0           0.0  \n",
       "...          ...        ...          ...           ...           ...  \n",
       "2804         0.0        0.0          0.0           0.0           0.0  \n",
       "2805         0.0        0.0          0.0           0.0           0.0  \n",
       "2825         0.0        0.0          0.0           0.0           0.0  \n",
       "2892         0.0        0.0          0.0           0.0           0.0  \n",
       "2905         0.0        0.0          0.0           0.0           0.0  \n",
       "\n",
       "[88 rows x 11 columns]"
      ]
     },
     "execution_count": 91,
     "metadata": {},
     "output_type": "execute_result"
    }
   ],
   "source": [
    "df_bsmt = df[cat_bsmt_feat + num_bsmt_feat]\n",
    "df_bsmt[df_bsmt.isnull().any(axis = 1)]"
   ]
  },
  {
   "cell_type": "code",
   "execution_count": 92,
   "id": "229e7a76-d678-4da4-a286-6f25a871610e",
   "metadata": {
    "tags": []
   },
   "outputs": [],
   "source": [
    "bsmt_num = 0\n",
    "for feat in num_bsmt_feat:\n",
    "    df_mvi[feat].replace(np.nan, bsmt_num, inplace=True)"
   ]
  },
  {
   "cell_type": "code",
   "execution_count": 93,
   "id": "dd9b2894-fe83-43c4-b28c-8c6e0c02a342",
   "metadata": {
    "tags": []
   },
   "outputs": [
    {
     "data": {
      "text/plain": [
       "BsmtFinSF1      0\n",
       "BsmtFinSF2      0\n",
       "BsmtUnfSF       0\n",
       "TotalBsmtSF     0\n",
       "BsmtFullBath    0\n",
       "BsmtHalfBath    0\n",
       "dtype: int64"
      ]
     },
     "execution_count": 93,
     "metadata": {},
     "output_type": "execute_result"
    }
   ],
   "source": [
    "df_mvi[num_bsmt_feat].isnull().sum()"
   ]
  },
  {
   "cell_type": "markdown",
   "id": "bd59a7fd-6659-42bd-b48f-174fb4fa9f57",
   "metadata": {},
   "source": [
    "## Handling KitchenQual & Electrical"
   ]
  },
  {
   "cell_type": "code",
   "execution_count": 95,
   "id": "153dbfdd-ae52-46de-ae29-57fd1f107da3",
   "metadata": {
    "tags": []
   },
   "outputs": [
    {
     "data": {
      "text/plain": [
       "Electrical\n",
       "SBrkr    2671\n",
       "FuseA     188\n",
       "FuseF      50\n",
       "FuseP       8\n",
       "Mix         1\n",
       "Name: count, dtype: int64"
      ]
     },
     "execution_count": 95,
     "metadata": {},
     "output_type": "execute_result"
    }
   ],
   "source": [
    "df[\"Electrical\"].value_counts()"
   ]
  },
  {
   "cell_type": "code",
   "execution_count": 96,
   "id": "27fc073b-7c26-4c82-8cba-643515e1edfe",
   "metadata": {
    "tags": []
   },
   "outputs": [
    {
     "data": {
      "text/plain": [
       "KitchenQual\n",
       "TA    1492\n",
       "Gd    1151\n",
       "Ex     205\n",
       "Fa      70\n",
       "Name: count, dtype: int64"
      ]
     },
     "execution_count": 96,
     "metadata": {},
     "output_type": "execute_result"
    }
   ],
   "source": [
    "df[\"KitchenQual\"].value_counts()"
   ]
  },
  {
   "cell_type": "code",
   "execution_count": 98,
   "id": "9e9654ac-226d-42a7-afe9-a2a5183eb987",
   "metadata": {
    "tags": []
   },
   "outputs": [
    {
     "data": {
      "text/plain": [
       "Id\n",
       "1       False\n",
       "2       False\n",
       "3       False\n",
       "4       False\n",
       "5       False\n",
       "        ...  \n",
       "2915    False\n",
       "2916    False\n",
       "2917    False\n",
       "2918    False\n",
       "2919    False\n",
       "Length: 2919, dtype: bool"
      ]
     },
     "execution_count": 98,
     "metadata": {},
     "output_type": "execute_result"
    }
   ],
   "source": [
    "df[[\"Electrical\", \"KitchenQual\", \"KitchenAbvGr\"]].isnull().any(axis = 1)"
   ]
  },
  {
   "cell_type": "code",
   "execution_count": 99,
   "id": "0d628051-90b1-4964-a08c-a9b8e3c5e384",
   "metadata": {
    "tags": []
   },
   "outputs": [
    {
     "data": {
      "text/html": [
       "<div>\n",
       "<style scoped>\n",
       "    .dataframe tbody tr th:only-of-type {\n",
       "        vertical-align: middle;\n",
       "    }\n",
       "\n",
       "    .dataframe tbody tr th {\n",
       "        vertical-align: top;\n",
       "    }\n",
       "\n",
       "    .dataframe thead th {\n",
       "        text-align: right;\n",
       "    }\n",
       "</style>\n",
       "<table border=\"1\" class=\"dataframe\">\n",
       "  <thead>\n",
       "    <tr style=\"text-align: right;\">\n",
       "      <th></th>\n",
       "      <th>Electrical</th>\n",
       "      <th>KitchenQual</th>\n",
       "      <th>KitchenAbvGr</th>\n",
       "    </tr>\n",
       "    <tr>\n",
       "      <th>Id</th>\n",
       "      <th></th>\n",
       "      <th></th>\n",
       "      <th></th>\n",
       "    </tr>\n",
       "  </thead>\n",
       "  <tbody>\n",
       "    <tr>\n",
       "      <th>1380</th>\n",
       "      <td>NaN</td>\n",
       "      <td>Gd</td>\n",
       "      <td>1</td>\n",
       "    </tr>\n",
       "    <tr>\n",
       "      <th>1556</th>\n",
       "      <td>SBrkr</td>\n",
       "      <td>NaN</td>\n",
       "      <td>1</td>\n",
       "    </tr>\n",
       "  </tbody>\n",
       "</table>\n",
       "</div>"
      ],
      "text/plain": [
       "     Electrical KitchenQual  KitchenAbvGr\n",
       "Id                                       \n",
       "1380        NaN          Gd             1\n",
       "1556      SBrkr         NaN             1"
      ]
     },
     "execution_count": 99,
     "metadata": {},
     "output_type": "execute_result"
    }
   ],
   "source": [
    "df_ekk = df[[\"Electrical\", \"KitchenQual\", \"KitchenAbvGr\"]]\n",
    "df_ekk[df_ekk.isnull().any(axis=1)]"
   ]
  },
  {
   "cell_type": "code",
   "execution_count": 100,
   "id": "76895488-b741-457a-8dd8-32db56b42f6d",
   "metadata": {
    "tags": []
   },
   "outputs": [
    {
     "data": {
      "text/plain": [
       "0"
      ]
     },
     "execution_count": 100,
     "metadata": {},
     "output_type": "execute_result"
    }
   ],
   "source": [
    "Electrical_mode = df[\"Electrical\"].mode()[0]\n",
    "df_mvi[\"Electrical\"].replace(np.nan,Electrical_mode, inplace = True)\n",
    "df_mvi[\"Electrical\"].isnull().sum()"
   ]
  },
  {
   "cell_type": "code",
   "execution_count": 101,
   "id": "e52d3876-0ae9-456b-89a1-f841fd22938a",
   "metadata": {
    "tags": []
   },
   "outputs": [
    {
     "data": {
      "text/plain": [
       "0"
      ]
     },
     "execution_count": 101,
     "metadata": {},
     "output_type": "execute_result"
    }
   ],
   "source": [
    "KitchenQual_mode = df[\"KitchenQual\"].mode()[0]\n",
    "df_mvi[\"KitchenQual\"].replace(np.nan,Electrical_mode, inplace = True)\n",
    "df_mvi[\"KitchenQual\"].isnull().sum()"
   ]
  },
  {
   "cell_type": "markdown",
   "id": "bb1c89a2-9f2d-4c78-9fd2-f69309e1cc16",
   "metadata": {},
   "source": [
    "## Handling remaining cat features"
   ]
  },
  {
   "cell_type": "raw",
   "id": "d6597457-73ef-4ce2-ba32-3aef1ed7c819",
   "metadata": {},
   "source": [
    "Functional       0.068517 mode\n",
    "FireplaceQu     48.646797 NA\n",
    "PoolQC          99.657417 NA\n",
    "Fence           80.438506 NA\n",
    "MiscFeature     96.402878 NA\n",
    "SaleType         0.034258 mode"
   ]
  },
  {
   "cell_type": "code",
   "execution_count": 102,
   "id": "38db0ea8-6733-49ce-b3f7-52cd6acaf2c8",
   "metadata": {
    "tags": []
   },
   "outputs": [
    {
     "data": {
      "text/plain": [
       "Functional\n",
       "Typ     2717\n",
       "Min2      70\n",
       "Min1      65\n",
       "Mod       35\n",
       "Maj1      19\n",
       "Maj2       9\n",
       "Sev        2\n",
       "Name: count, dtype: int64"
      ]
     },
     "execution_count": 102,
     "metadata": {},
     "output_type": "execute_result"
    }
   ],
   "source": [
    "df[\"Functional\"].value_counts()"
   ]
  },
  {
   "cell_type": "code",
   "execution_count": 103,
   "id": "530374a9-a145-4ba6-9fe4-d8fdc7d2960d",
   "metadata": {
    "tags": []
   },
   "outputs": [
    {
     "data": {
      "text/plain": [
       "SaleType\n",
       "WD       2525\n",
       "New       239\n",
       "COD        87\n",
       "ConLD      26\n",
       "CWD        12\n",
       "ConLI       9\n",
       "ConLw       8\n",
       "Oth         7\n",
       "Con         5\n",
       "Name: count, dtype: int64"
      ]
     },
     "execution_count": 103,
     "metadata": {},
     "output_type": "execute_result"
    }
   ],
   "source": [
    "df[\"SaleType\"].value_counts()"
   ]
  },
  {
   "cell_type": "code",
   "execution_count": 106,
   "id": "90575470-73c7-43da-a21e-a8ff863a44b3",
   "metadata": {
    "tags": []
   },
   "outputs": [
    {
     "data": {
      "text/plain": [
       "0"
      ]
     },
     "execution_count": 106,
     "metadata": {},
     "output_type": "execute_result"
    }
   ],
   "source": [
    "SaleType_mode = df[\"SaleType\"].mode()[0]\n",
    "df_mvi[\"SaleType\"].replace(np.nan,SaleType_mode, inplace = True)\n",
    "df_mvi[\"SaleType\"].isnull().sum()"
   ]
  },
  {
   "cell_type": "code",
   "execution_count": 107,
   "id": "5dd9a2bb-9828-454a-bd01-b54cb98a4afa",
   "metadata": {
    "tags": []
   },
   "outputs": [
    {
     "data": {
      "text/plain": [
       "0"
      ]
     },
     "execution_count": 107,
     "metadata": {},
     "output_type": "execute_result"
    }
   ],
   "source": [
    "Functional_mode = df[\"Functional\"].mode()[0]\n",
    "df_mvi[\"Functional\"].replace(np.nan,Functional_mode, inplace = True)\n",
    "df_mvi[\"Functional\"].isnull().sum()"
   ]
  },
  {
   "cell_type": "code",
   "execution_count": 108,
   "id": "01da9694-bf66-424f-be19-7dcb4f2da337",
   "metadata": {
    "tags": []
   },
   "outputs": [
    {
     "name": "stdout",
     "output_type": "stream",
     "text": [
      "Value count of FireplaceQu: FireplaceQu\n",
      "Gd    744\n",
      "TA    592\n",
      "Fa     74\n",
      "Po     46\n",
      "Ex     43\n",
      "Name: count, dtype: int64\n",
      "Value count of PoolQC: PoolQC\n",
      "Ex    4\n",
      "Gd    4\n",
      "Fa    2\n",
      "Name: count, dtype: int64\n",
      "Value count of Fence: Fence\n",
      "MnPrv    329\n",
      "GdPrv    118\n",
      "GdWo     112\n",
      "MnWw      12\n",
      "Name: count, dtype: int64\n",
      "Value count of MiscFeature: MiscFeature\n",
      "Shed    95\n",
      "Gar2     5\n",
      "Othr     4\n",
      "TenC     1\n",
      "Name: count, dtype: int64\n"
     ]
    }
   ],
   "source": [
    "other_cat_feat =[\"FireplaceQu\" ,\n",
    "\"PoolQC\" ,\n",
    "\"Fence\",\n",
    "\"MiscFeature\"\n",
    "]\n",
    "\n",
    "for feat in other_cat_feat:\n",
    "    print(f\"Value count of {feat}: {df[feat].value_counts()}\")"
   ]
  },
  {
   "cell_type": "code",
   "execution_count": 109,
   "id": "b9081ead-eeda-4272-992f-7cf834e418ef",
   "metadata": {
    "tags": []
   },
   "outputs": [
    {
     "data": {
      "text/plain": [
       "0"
      ]
     },
     "execution_count": 109,
     "metadata": {},
     "output_type": "execute_result"
    }
   ],
   "source": [
    "fireplacequ_cont = \"NA\"\n",
    "df_mvi[\"FireplaceQu\"].replace(np.nan, fireplacequ_cont, inplace = True)\n",
    "df_mvi[\"FireplaceQu\"].isnull().sum()"
   ]
  },
  {
   "cell_type": "code",
   "execution_count": 110,
   "id": "e55477b1-db5d-43b3-84da-7082bdc54490",
   "metadata": {
    "tags": []
   },
   "outputs": [
    {
     "data": {
      "text/plain": [
       "0"
      ]
     },
     "execution_count": 110,
     "metadata": {},
     "output_type": "execute_result"
    }
   ],
   "source": [
    "poolqc_cont = \"NA\"\n",
    "df_mvi[\"PoolQC\"].replace(np.nan, poolqc_cont, inplace = True)\n",
    "df_mvi[\"PoolQC\"].isnull().sum()"
   ]
  },
  {
   "cell_type": "code",
   "execution_count": 112,
   "id": "15296ed8-1c75-48a4-ae04-499744b142d2",
   "metadata": {
    "tags": []
   },
   "outputs": [
    {
     "data": {
      "text/plain": [
       "0"
      ]
     },
     "execution_count": 112,
     "metadata": {},
     "output_type": "execute_result"
    }
   ],
   "source": [
    "fence_cont = \"NA\"\n",
    "df_mvi[\"Fence\"].replace(np.nan, fence_cont, inplace = True)\n",
    "df_mvi[\"Fence\"].isnull().sum()"
   ]
  },
  {
   "cell_type": "code",
   "execution_count": 113,
   "id": "556d757b-c6c0-4652-960e-b2512769a420",
   "metadata": {
    "tags": []
   },
   "outputs": [
    {
     "data": {
      "text/plain": [
       "0"
      ]
     },
     "execution_count": 113,
     "metadata": {},
     "output_type": "execute_result"
    }
   ],
   "source": [
    "miscfeature_cont = \"NA\"\n",
    "df_mvi[\"MiscFeature\"].replace(np.nan, miscfeature_cont, inplace = True)\n",
    "df_mvi[\"MiscFeature\"].isnull().sum()"
   ]
  },
  {
   "cell_type": "markdown",
   "id": "5e7aa352-f092-46d9-a6bf-39e345944ea4",
   "metadata": {},
   "source": [
    "## Handling Garage Feature"
   ]
  },
  {
   "cell_type": "code",
   "execution_count": null,
   "id": "8d9718c1-4615-46c1-baf6-875fd4dad33d",
   "metadata": {},
   "outputs": [],
   "source": [
    "GarageType       5.378554 NA\n",
    "GarageFinish     5.447071 NA\n",
    "GarageQual       5.447071 NA\n",
    "GarageCond       5.447071 NA\n",
    "\n",
    "GarageYrBlt      5.447071 0\n",
    "GarageCars       0.034258 0\n",
    "GarageArea       0.034258 0\n"
   ]
  },
  {
   "cell_type": "code",
   "execution_count": 115,
   "id": "83d48669-8c2f-495e-9f85-dc7fdb947e0f",
   "metadata": {
    "tags": []
   },
   "outputs": [
    {
     "data": {
      "text/html": [
       "<div>\n",
       "<style scoped>\n",
       "    .dataframe tbody tr th:only-of-type {\n",
       "        vertical-align: middle;\n",
       "    }\n",
       "\n",
       "    .dataframe tbody tr th {\n",
       "        vertical-align: top;\n",
       "    }\n",
       "\n",
       "    .dataframe thead th {\n",
       "        text-align: right;\n",
       "    }\n",
       "</style>\n",
       "<table border=\"1\" class=\"dataframe\">\n",
       "  <thead>\n",
       "    <tr style=\"text-align: right;\">\n",
       "      <th></th>\n",
       "      <th>GarageYrBlt</th>\n",
       "      <th>GarageCars</th>\n",
       "      <th>GarageArea</th>\n",
       "      <th>GarageType</th>\n",
       "      <th>GarageFinish</th>\n",
       "      <th>GarageQual</th>\n",
       "      <th>GarageCond</th>\n",
       "    </tr>\n",
       "    <tr>\n",
       "      <th>Id</th>\n",
       "      <th></th>\n",
       "      <th></th>\n",
       "      <th></th>\n",
       "      <th></th>\n",
       "      <th></th>\n",
       "      <th></th>\n",
       "      <th></th>\n",
       "    </tr>\n",
       "  </thead>\n",
       "  <tbody>\n",
       "    <tr>\n",
       "      <th>40</th>\n",
       "      <td>NaN</td>\n",
       "      <td>0.0</td>\n",
       "      <td>0.0</td>\n",
       "      <td>NaN</td>\n",
       "      <td>NaN</td>\n",
       "      <td>NaN</td>\n",
       "      <td>NaN</td>\n",
       "    </tr>\n",
       "    <tr>\n",
       "      <th>49</th>\n",
       "      <td>NaN</td>\n",
       "      <td>0.0</td>\n",
       "      <td>0.0</td>\n",
       "      <td>NaN</td>\n",
       "      <td>NaN</td>\n",
       "      <td>NaN</td>\n",
       "      <td>NaN</td>\n",
       "    </tr>\n",
       "    <tr>\n",
       "      <th>79</th>\n",
       "      <td>NaN</td>\n",
       "      <td>0.0</td>\n",
       "      <td>0.0</td>\n",
       "      <td>NaN</td>\n",
       "      <td>NaN</td>\n",
       "      <td>NaN</td>\n",
       "      <td>NaN</td>\n",
       "    </tr>\n",
       "    <tr>\n",
       "      <th>89</th>\n",
       "      <td>NaN</td>\n",
       "      <td>0.0</td>\n",
       "      <td>0.0</td>\n",
       "      <td>NaN</td>\n",
       "      <td>NaN</td>\n",
       "      <td>NaN</td>\n",
       "      <td>NaN</td>\n",
       "    </tr>\n",
       "    <tr>\n",
       "      <th>90</th>\n",
       "      <td>NaN</td>\n",
       "      <td>0.0</td>\n",
       "      <td>0.0</td>\n",
       "      <td>NaN</td>\n",
       "      <td>NaN</td>\n",
       "      <td>NaN</td>\n",
       "      <td>NaN</td>\n",
       "    </tr>\n",
       "    <tr>\n",
       "      <th>...</th>\n",
       "      <td>...</td>\n",
       "      <td>...</td>\n",
       "      <td>...</td>\n",
       "      <td>...</td>\n",
       "      <td>...</td>\n",
       "      <td>...</td>\n",
       "      <td>...</td>\n",
       "    </tr>\n",
       "    <tr>\n",
       "      <th>2894</th>\n",
       "      <td>NaN</td>\n",
       "      <td>0.0</td>\n",
       "      <td>0.0</td>\n",
       "      <td>NaN</td>\n",
       "      <td>NaN</td>\n",
       "      <td>NaN</td>\n",
       "      <td>NaN</td>\n",
       "    </tr>\n",
       "    <tr>\n",
       "      <th>2910</th>\n",
       "      <td>NaN</td>\n",
       "      <td>0.0</td>\n",
       "      <td>0.0</td>\n",
       "      <td>NaN</td>\n",
       "      <td>NaN</td>\n",
       "      <td>NaN</td>\n",
       "      <td>NaN</td>\n",
       "    </tr>\n",
       "    <tr>\n",
       "      <th>2914</th>\n",
       "      <td>NaN</td>\n",
       "      <td>0.0</td>\n",
       "      <td>0.0</td>\n",
       "      <td>NaN</td>\n",
       "      <td>NaN</td>\n",
       "      <td>NaN</td>\n",
       "      <td>NaN</td>\n",
       "    </tr>\n",
       "    <tr>\n",
       "      <th>2915</th>\n",
       "      <td>NaN</td>\n",
       "      <td>0.0</td>\n",
       "      <td>0.0</td>\n",
       "      <td>NaN</td>\n",
       "      <td>NaN</td>\n",
       "      <td>NaN</td>\n",
       "      <td>NaN</td>\n",
       "    </tr>\n",
       "    <tr>\n",
       "      <th>2918</th>\n",
       "      <td>NaN</td>\n",
       "      <td>0.0</td>\n",
       "      <td>0.0</td>\n",
       "      <td>NaN</td>\n",
       "      <td>NaN</td>\n",
       "      <td>NaN</td>\n",
       "      <td>NaN</td>\n",
       "    </tr>\n",
       "  </tbody>\n",
       "</table>\n",
       "<p>159 rows × 7 columns</p>\n",
       "</div>"
      ],
      "text/plain": [
       "      GarageYrBlt  GarageCars  GarageArea GarageType GarageFinish GarageQual   \n",
       "Id                                                                             \n",
       "40            NaN         0.0         0.0        NaN          NaN        NaN  \\\n",
       "49            NaN         0.0         0.0        NaN          NaN        NaN   \n",
       "79            NaN         0.0         0.0        NaN          NaN        NaN   \n",
       "89            NaN         0.0         0.0        NaN          NaN        NaN   \n",
       "90            NaN         0.0         0.0        NaN          NaN        NaN   \n",
       "...           ...         ...         ...        ...          ...        ...   \n",
       "2894          NaN         0.0         0.0        NaN          NaN        NaN   \n",
       "2910          NaN         0.0         0.0        NaN          NaN        NaN   \n",
       "2914          NaN         0.0         0.0        NaN          NaN        NaN   \n",
       "2915          NaN         0.0         0.0        NaN          NaN        NaN   \n",
       "2918          NaN         0.0         0.0        NaN          NaN        NaN   \n",
       "\n",
       "     GarageCond  \n",
       "Id               \n",
       "40          NaN  \n",
       "49          NaN  \n",
       "79          NaN  \n",
       "89          NaN  \n",
       "90          NaN  \n",
       "...         ...  \n",
       "2894        NaN  \n",
       "2910        NaN  \n",
       "2914        NaN  \n",
       "2915        NaN  \n",
       "2918        NaN  \n",
       "\n",
       "[159 rows x 7 columns]"
      ]
     },
     "execution_count": 115,
     "metadata": {},
     "output_type": "execute_result"
    }
   ],
   "source": [
    "cat_garage_feat = [\"GarageType\",\"GarageFinish\",\"GarageQual\",\"GarageCond\"]\n",
    "num_garage_feat = [\"GarageYrBlt\",\"GarageCars\",\"GarageArea\"]\n",
    "\n",
    "df_garage = df[num_garage_feat+cat_garage_feat]\n",
    "df_garage[df_garage.isnull().any(axis=1)]"
   ]
  },
  {
   "cell_type": "code",
   "execution_count": 116,
   "id": "530978f9-5d20-4105-8e6b-59732a915a01",
   "metadata": {
    "tags": []
   },
   "outputs": [
    {
     "data": {
      "text/plain": [
       "GarageType      0\n",
       "GarageFinish    0\n",
       "GarageQual      0\n",
       "GarageCond      0\n",
       "dtype: int64"
      ]
     },
     "execution_count": 116,
     "metadata": {},
     "output_type": "execute_result"
    }
   ],
   "source": [
    "garage_cont = \"NA\"\n",
    "for feat in cat_garage_feat:\n",
    "    df_mvi[feat].replace(np.nan, garage_cont, inplace= True)\n",
    "    \n",
    "df_mvi[cat_garage_feat].isnull().sum()"
   ]
  },
  {
   "cell_type": "code",
   "execution_count": 118,
   "id": "5834fbc7-e401-46fb-9b31-f2d0ff3fe37d",
   "metadata": {
    "tags": []
   },
   "outputs": [
    {
     "data": {
      "text/plain": [
       "GarageYrBlt    0\n",
       "GarageCars     0\n",
       "GarageArea     0\n",
       "dtype: int64"
      ]
     },
     "execution_count": 118,
     "metadata": {},
     "output_type": "execute_result"
    }
   ],
   "source": [
    "garage_num = 0\n",
    "for feat in num_garage_feat:\n",
    "    df_mvi[feat].replace(np.nan, garage_num, inplace= True)\n",
    "    \n",
    "df_mvi[num_garage_feat].isnull().sum()"
   ]
  },
  {
   "cell_type": "code",
   "execution_count": 119,
   "id": "fe21c381-cc6c-4021-95fa-05c83fd11002",
   "metadata": {
    "tags": []
   },
   "outputs": [
    {
     "data": {
      "text/plain": [
       "1459"
      ]
     },
     "execution_count": 119,
     "metadata": {},
     "output_type": "execute_result"
    }
   ],
   "source": [
    "df_mvi.isnull().any(axis=1).sum()"
   ]
  },
  {
   "cell_type": "markdown",
   "id": "0f7c5ee6-bff9-4306-b778-7168244488ee",
   "metadata": {},
   "source": [
    "## Feature Transformation convert numerical to categorical"
   ]
  },
  {
   "cell_type": "code",
   "execution_count": 122,
   "id": "75ea9b56-03e0-4f6e-98b8-8a07b27569bb",
   "metadata": {
    "tags": []
   },
   "outputs": [
    {
     "name": "stdout",
     "output_type": "stream",
     "text": [
      "MSSubClass: data type = int64\n",
      "YearBuilt: data type = int64\n",
      "YearRemodAdd: data type = int64\n",
      "GarageYrBlt: data type = float64\n",
      "MoSold: data type = int64\n",
      "YrSold: data type = int64\n"
     ]
    }
   ],
   "source": [
    "for_num_conv = [\"MSSubClass\",\"YearBuilt\",\"YearRemodAdd\",\"GarageYrBlt\",\"MoSold\", \"YrSold\"]\n",
    "for feat in for_num_conv:\n",
    "    print(f\"{feat}: data type = {df_mvi[feat].dtype}\")"
   ]
  },
  {
   "cell_type": "code",
   "execution_count": 123,
   "id": "d74bb6bc-407f-428f-bb90-c9d1f822e1be",
   "metadata": {
    "tags": []
   },
   "outputs": [
    {
     "data": {
      "text/html": [
       "<div>\n",
       "<style scoped>\n",
       "    .dataframe tbody tr th:only-of-type {\n",
       "        vertical-align: middle;\n",
       "    }\n",
       "\n",
       "    .dataframe tbody tr th {\n",
       "        vertical-align: top;\n",
       "    }\n",
       "\n",
       "    .dataframe thead th {\n",
       "        text-align: right;\n",
       "    }\n",
       "</style>\n",
       "<table border=\"1\" class=\"dataframe\">\n",
       "  <thead>\n",
       "    <tr style=\"text-align: right;\">\n",
       "      <th></th>\n",
       "      <th>MSSubClass</th>\n",
       "      <th>YearBuilt</th>\n",
       "      <th>YearRemodAdd</th>\n",
       "      <th>GarageYrBlt</th>\n",
       "      <th>MoSold</th>\n",
       "      <th>YrSold</th>\n",
       "    </tr>\n",
       "    <tr>\n",
       "      <th>Id</th>\n",
       "      <th></th>\n",
       "      <th></th>\n",
       "      <th></th>\n",
       "      <th></th>\n",
       "      <th></th>\n",
       "      <th></th>\n",
       "    </tr>\n",
       "  </thead>\n",
       "  <tbody>\n",
       "    <tr>\n",
       "      <th>1</th>\n",
       "      <td>60</td>\n",
       "      <td>2003</td>\n",
       "      <td>2003</td>\n",
       "      <td>2003.0</td>\n",
       "      <td>2</td>\n",
       "      <td>2008</td>\n",
       "    </tr>\n",
       "    <tr>\n",
       "      <th>2</th>\n",
       "      <td>20</td>\n",
       "      <td>1976</td>\n",
       "      <td>1976</td>\n",
       "      <td>1976.0</td>\n",
       "      <td>5</td>\n",
       "      <td>2007</td>\n",
       "    </tr>\n",
       "    <tr>\n",
       "      <th>3</th>\n",
       "      <td>60</td>\n",
       "      <td>2001</td>\n",
       "      <td>2002</td>\n",
       "      <td>2001.0</td>\n",
       "      <td>9</td>\n",
       "      <td>2008</td>\n",
       "    </tr>\n",
       "    <tr>\n",
       "      <th>4</th>\n",
       "      <td>70</td>\n",
       "      <td>1915</td>\n",
       "      <td>1970</td>\n",
       "      <td>1998.0</td>\n",
       "      <td>2</td>\n",
       "      <td>2006</td>\n",
       "    </tr>\n",
       "    <tr>\n",
       "      <th>5</th>\n",
       "      <td>60</td>\n",
       "      <td>2000</td>\n",
       "      <td>2000</td>\n",
       "      <td>2000.0</td>\n",
       "      <td>12</td>\n",
       "      <td>2008</td>\n",
       "    </tr>\n",
       "  </tbody>\n",
       "</table>\n",
       "</div>"
      ],
      "text/plain": [
       "    MSSubClass  YearBuilt  YearRemodAdd  GarageYrBlt  MoSold  YrSold\n",
       "Id                                                                  \n",
       "1           60       2003          2003       2003.0       2    2008\n",
       "2           20       1976          1976       1976.0       5    2007\n",
       "3           60       2001          2002       2001.0       9    2008\n",
       "4           70       1915          1970       1998.0       2    2006\n",
       "5           60       2000          2000       2000.0      12    2008"
      ]
     },
     "execution_count": 123,
     "metadata": {},
     "output_type": "execute_result"
    }
   ],
   "source": [
    "df_mvi[for_num_conv].head()"
   ]
  },
  {
   "cell_type": "code",
   "execution_count": 124,
   "id": "2b6ef7a9-cb66-47ff-a5f7-d8308c1ba38f",
   "metadata": {
    "tags": []
   },
   "outputs": [
    {
     "data": {
      "text/plain": [
       "array([ 2,  5,  9, 12, 10,  8, 11,  4,  1,  7,  3,  6], dtype=int64)"
      ]
     },
     "execution_count": 124,
     "metadata": {},
     "output_type": "execute_result"
    }
   ],
   "source": [
    "df_mvi[\"MoSold\"].unique()"
   ]
  },
  {
   "cell_type": "code",
   "execution_count": 127,
   "id": "07f022f5-71cf-48f0-8b9a-34aba42a0bb8",
   "metadata": {
    "tags": []
   },
   "outputs": [
    {
     "data": {
      "text/plain": [
       "'Apr'"
      ]
     },
     "execution_count": 127,
     "metadata": {},
     "output_type": "execute_result"
    }
   ],
   "source": [
    "calendar.month_abbr[4]"
   ]
  },
  {
   "cell_type": "code",
   "execution_count": 129,
   "id": "cc9c35b9-1ad8-4e7a-be82-9c06219b0b68",
   "metadata": {
    "tags": []
   },
   "outputs": [
    {
     "data": {
      "text/plain": [
       "array(['Feb', 'May', 'Sep', 'Dec', 'Oct', 'Aug', 'Nov', 'Apr', 'Jan',\n",
       "       'Jul', 'Mar', 'Jun'], dtype=object)"
      ]
     },
     "execution_count": 129,
     "metadata": {},
     "output_type": "execute_result"
    }
   ],
   "source": [
    "df_mvi[\"MoSold\"] = df_mvi[\"MoSold\"].apply(lambda x : calendar.month_abbr[x])\n",
    "df_mvi[\"MoSold\"].unique()"
   ]
  },
  {
   "cell_type": "code",
   "execution_count": 130,
   "id": "776d4db3-d771-4742-8b62-c1e6a9482ef7",
   "metadata": {
    "tags": []
   },
   "outputs": [],
   "source": [
    "for feat in for_num_conv:\n",
    "    df_mvi[feat] = df_mvi[feat].astype(str)"
   ]
  },
  {
   "cell_type": "code",
   "execution_count": 131,
   "id": "053a986d-85ec-4d3a-809a-a7d93dca7cbe",
   "metadata": {
    "tags": []
   },
   "outputs": [
    {
     "name": "stdout",
     "output_type": "stream",
     "text": [
      "MSSubClass: data type = object\n",
      "YearBuilt: data type = object\n",
      "YearRemodAdd: data type = object\n",
      "GarageYrBlt: data type = object\n",
      "MoSold: data type = object\n",
      "YrSold: data type = object\n"
     ]
    }
   ],
   "source": [
    "for feat in for_num_conv:\n",
    "    print(f\"{feat}: data type = {df_mvi[feat].dtype}\")"
   ]
  },
  {
   "cell_type": "markdown",
   "id": "3333ac43-1536-40a7-b518-fb0afd5ebee8",
   "metadata": {},
   "source": [
    "## Convert categorical features into Numerical feature"
   ]
  },
  {
   "cell_type": "markdown",
   "id": "346f5b89-3567-4c64-8645-05e1b98a52ba",
   "metadata": {},
   "source": [
    "## Ordinal Encoding"
   ]
  },
  {
   "cell_type": "code",
   "execution_count": 134,
   "id": "14331961-35fe-48bc-81db-36b61324f4be",
   "metadata": {
    "tags": []
   },
   "outputs": [
    {
     "name": "stdout",
     "output_type": "stream",
     "text": [
      "Total number of features to convert ordinal numeriacal format 18\n"
     ]
    }
   ],
   "source": [
    "ordinal_end_var = [\n",
    "\"ExterQual\",\n",
    "\"ExterCond\",\n",
    "\"BsmtQual\",  \n",
    "\"BsmtCond\",\n",
    "\"BsmtExposure\",\n",
    "\"BsmtFinType1\",\n",
    "\"BsmtFinSF1\",\n",
    "\"BsmtFinType2\",\n",
    "\"HeatingQC\",\n",
    "\"KitchenQual\",\n",
    "\"FireplaceQu\",     \n",
    "\"GarageQual\", \n",
    "\"GarageCond\" ,\n",
    "\"PoolQC\"  ,\n",
    "\"Functional\",\n",
    "\"GarageFinish\",\n",
    "\"PavedDrive\",\n",
    "\"Utilities\"\n",
    "]\n",
    "\n",
    "print(\"Total number of features to convert ordinal numeriacal format\", len(ordinal_end_var))"
   ]
  },
  {
   "cell_type": "code",
   "execution_count": 141,
   "id": "18e813b0-9983-48b5-a5bd-bb00750648ce",
   "metadata": {
    "tags": []
   },
   "outputs": [
    {
     "data": {
      "text/plain": [
       "Id\n",
       "1       3\n",
       "2       2\n",
       "3       3\n",
       "4       2\n",
       "5       3\n",
       "       ..\n",
       "2915    2\n",
       "2916    2\n",
       "2917    2\n",
       "2918    2\n",
       "2919    2\n",
       "Length: 2919, dtype: int8"
      ]
     },
     "execution_count": 141,
     "metadata": {},
     "output_type": "execute_result"
    }
   ],
   "source": [
    "CategoricalDtype\n",
    "\n",
    "df_mvi[\"ExterQual\"].astype(CategoricalDtype(categories = [\"Po\",\"Fa\",\"TA\",\"Gd\", \"Ex\"],ordered = True)).cat.codes"
   ]
  },
  {
   "cell_type": "code",
   "execution_count": 139,
   "id": "2a091f53-c698-4e39-b546-b32723cdbaf6",
   "metadata": {
    "tags": []
   },
   "outputs": [
    {
     "data": {
      "text/plain": [
       "array(['Gd', 'TA', 'Ex', 'Fa'], dtype=object)"
      ]
     },
     "execution_count": 139,
     "metadata": {},
     "output_type": "execute_result"
    }
   ],
   "source": [
    "df_mvi[\"ExterQual\"].unique()\n"
   ]
  },
  {
   "cell_type": "code",
   "execution_count": 145,
   "id": "33319802-f145-4111-b791-3912b4e9d0a4",
   "metadata": {
    "tags": []
   },
   "outputs": [],
   "source": [
    "df_mvi[\"BsmtExposure\"] = df_mvi[\"BsmtExposure\"].astype(CategoricalDtype(categories = [\"NA\",\"No\",\"Mn\",\"Av\", \"Gd\"],ordered = True)).cat.codes"
   ]
  },
  {
   "cell_type": "code",
   "execution_count": 146,
   "id": "9e8be40c-68e2-4251-8166-44599ac4fa82",
   "metadata": {
    "tags": []
   },
   "outputs": [
    {
     "data": {
      "text/plain": [
       "BsmtExposure\n",
       "1    1904\n",
       "3     418\n",
       "4     276\n",
       "2     239\n",
       "0      82\n",
       "Name: count, dtype: int64"
      ]
     },
     "execution_count": 146,
     "metadata": {},
     "output_type": "execute_result"
    }
   ],
   "source": [
    "df_mvi[\"BsmtExposure\"].value_counts()"
   ]
  },
  {
   "cell_type": "code",
   "execution_count": 152,
   "id": "122e2d1c-83e3-4df2-9a3b-e30dec631323",
   "metadata": {
    "tags": []
   },
   "outputs": [],
   "source": [
    "df_mvi['BsmtFinType1'] = df_mvi['BsmtFinType1'].astype(CategoricalDtype(categories=['NA', 'Unf', 'LwQ', 'Rec', 'BLQ','ALQ', 'GLQ'], ordered = True)).cat.codes\n",
    "df_mvi['BsmtFinType2'] = df_mvi['BsmtFinType2'].astype(CategoricalDtype(categories=['NA', 'Unf', 'LwQ', 'Rec', 'BLQ','ALQ', 'GLQ'], ordered = True)).cat.codes\n",
    "df_mvi['BsmtQual'] = df_mvi['BsmtQual'].astype(CategoricalDtype(categories=['NA', 'Po', 'Fa', 'TA', 'Gd', 'Ex'], ordered = True)).cat.codes\n",
    "df_mvi['ExterQual'] = df_mvi['ExterQual'].astype(CategoricalDtype(categories=['Po', 'Fa', 'TA', 'Gd', 'Ex'], ordered = True)).cat.codes\n",
    "df_mvi['ExterCond'] = df_mvi['ExterCond'].astype(CategoricalDtype(categories=['Po', 'Fa', 'TA', 'Gd', 'Ex'], ordered = True)).cat.codes\n",
    "df_mvi['Functional'] = df_mvi['Functional'].astype(CategoricalDtype(categories=['Sal', 'Sev', 'Maj2', 'Maj1', 'Mod','Min2','Min1', 'Typ'], ordered = True)).cat.codes\n",
    "df_mvi['GarageCond'] = df_mvi['GarageCond'].astype(CategoricalDtype(categories=['NA', 'Po', 'Fa', 'TA', 'Gd', 'Ex'], ordered = True)).cat.codes\n",
    "df_mvi['GarageQual'] = df_mvi['GarageQual'].astype(CategoricalDtype(categories=['NA', 'Po', 'Fa', 'TA', 'Gd', 'Ex'], ordered = True)).cat.codes\n",
    "df_mvi['GarageFinish'] = df_mvi['GarageFinish'].astype(CategoricalDtype(categories=['NA', 'Unf', 'RFn', 'Fin'], ordered = True)).cat.codes\n",
    "df_mvi['HeatingQC'] = df_mvi['HeatingQC'].astype(CategoricalDtype(categories=['Po', 'Fa', 'TA', 'Gd', 'Ex'], ordered = True)).cat.codes\n",
    "df_mvi['KitchenQual'] = df_mvi['KitchenQual'].astype(CategoricalDtype(categories=['Po', 'Fa', 'TA', 'Gd', 'Ex'], ordered = True)).cat.codes\n",
    "df_mvi['PavedDrive'] = df_mvi['PavedDrive'].astype(CategoricalDtype(categories=['N', 'P', 'Y'], ordered = True)).cat.codes\n",
    "df_mvi['Utilities'] = df_mvi['Utilities'].astype(CategoricalDtype(categories=['ELO', 'NASeWa', 'NASeWr', 'AllPub'], ordered = True)).cat.codes\n",
    "df_mvi['BsmtCond'] = df_mvi['BsmtCond'].astype(CategoricalDtype(categories=['NA', 'Po', 'Fa', 'TA', 'Gd', 'Ex'], ordered = True)).cat.codes\n",
    "df_mvi['FireplaceQu'] = df_mvi['FireplaceQu'].astype(CategoricalDtype(categories=['NA', 'Po', 'Fa', 'TA', 'Gd', 'Ex'], ordered = True)).cat.codes\n",
    "df_mvi['PoolQC'] = df_mvi['PoolQC'].astype(CategoricalDtype(categories=['NA','Fa', 'TA', 'Gd', 'Ex'], ordered = True)).cat.codes"
   ]
  },
  {
   "cell_type": "code",
   "execution_count": 153,
   "id": "ba2c2249-4327-4f4d-814d-05e4114055d1",
   "metadata": {
    "tags": []
   },
   "outputs": [
    {
     "name": "stdout",
     "output_type": "stream",
     "text": [
      "<class 'pandas.core.frame.DataFrame'>\n",
      "Index: 2919 entries, 1 to 2919\n",
      "Data columns (total 80 columns):\n",
      " #   Column         Non-Null Count  Dtype  \n",
      "---  ------         --------------  -----  \n",
      " 0   MSSubClass     2919 non-null   object \n",
      " 1   MSZoning       2919 non-null   object \n",
      " 2   LotFrontage    2919 non-null   float64\n",
      " 3   LotArea        2919 non-null   int64  \n",
      " 4   Street         2919 non-null   object \n",
      " 5   Alley          2919 non-null   object \n",
      " 6   LotShape       2919 non-null   object \n",
      " 7   LandContour    2919 non-null   object \n",
      " 8   Utilities      2919 non-null   int8   \n",
      " 9   LotConfig      2919 non-null   object \n",
      " 10  LandSlope      2919 non-null   object \n",
      " 11  Neighborhood   2919 non-null   object \n",
      " 12  Condition1     2919 non-null   object \n",
      " 13  Condition2     2919 non-null   object \n",
      " 14  BldgType       2919 non-null   object \n",
      " 15  HouseStyle     2919 non-null   object \n",
      " 16  OverallQual    2919 non-null   int64  \n",
      " 17  OverallCond    2919 non-null   int64  \n",
      " 18  YearBuilt      2919 non-null   object \n",
      " 19  YearRemodAdd   2919 non-null   object \n",
      " 20  RoofStyle      2919 non-null   object \n",
      " 21  RoofMatl       2919 non-null   object \n",
      " 22  Exterior1st    2919 non-null   object \n",
      " 23  Exterior2nd    2919 non-null   object \n",
      " 24  MasVnrType     2919 non-null   object \n",
      " 25  MasVnrArea     2919 non-null   float64\n",
      " 26  ExterQual      2919 non-null   int8   \n",
      " 27  ExterCond      2919 non-null   int8   \n",
      " 28  Foundation     2919 non-null   object \n",
      " 29  BsmtQual       2919 non-null   int8   \n",
      " 30  BsmtCond       2919 non-null   int8   \n",
      " 31  BsmtExposure   2919 non-null   int8   \n",
      " 32  BsmtFinType1   2919 non-null   int8   \n",
      " 33  BsmtFinSF1     2919 non-null   float64\n",
      " 34  BsmtFinType2   2919 non-null   int8   \n",
      " 35  BsmtFinSF2     2919 non-null   float64\n",
      " 36  BsmtUnfSF      2919 non-null   float64\n",
      " 37  TotalBsmtSF    2919 non-null   float64\n",
      " 38  Heating        2919 non-null   object \n",
      " 39  HeatingQC      2919 non-null   int8   \n",
      " 40  CentralAir     2919 non-null   object \n",
      " 41  Electrical     2919 non-null   object \n",
      " 42  1stFlrSF       2919 non-null   int64  \n",
      " 43  2ndFlrSF       2919 non-null   int64  \n",
      " 44  LowQualFinSF   2919 non-null   int64  \n",
      " 45  GrLivArea      2919 non-null   int64  \n",
      " 46  BsmtFullBath   2919 non-null   float64\n",
      " 47  BsmtHalfBath   2919 non-null   float64\n",
      " 48  FullBath       2919 non-null   int64  \n",
      " 49  HalfBath       2919 non-null   int64  \n",
      " 50  BedroomAbvGr   2919 non-null   int64  \n",
      " 51  KitchenAbvGr   2919 non-null   int64  \n",
      " 52  KitchenQual    2919 non-null   int8   \n",
      " 53  TotRmsAbvGrd   2919 non-null   int64  \n",
      " 54  Functional     2919 non-null   int8   \n",
      " 55  Fireplaces     2919 non-null   int64  \n",
      " 56  FireplaceQu    2919 non-null   int8   \n",
      " 57  GarageType     2919 non-null   object \n",
      " 58  GarageYrBlt    2919 non-null   object \n",
      " 59  GarageFinish   2919 non-null   int8   \n",
      " 60  GarageCars     2919 non-null   float64\n",
      " 61  GarageArea     2919 non-null   float64\n",
      " 62  GarageQual     2919 non-null   int8   \n",
      " 63  GarageCond     2919 non-null   int8   \n",
      " 64  PavedDrive     2919 non-null   int8   \n",
      " 65  WoodDeckSF     2919 non-null   int64  \n",
      " 66  OpenPorchSF    2919 non-null   int64  \n",
      " 67  EnclosedPorch  2919 non-null   int64  \n",
      " 68  3SsnPorch      2919 non-null   int64  \n",
      " 69  ScreenPorch    2919 non-null   int64  \n",
      " 70  PoolArea       2919 non-null   int64  \n",
      " 71  PoolQC         2919 non-null   int8   \n",
      " 72  Fence          2919 non-null   object \n",
      " 73  MiscFeature    2919 non-null   object \n",
      " 74  MiscVal        2919 non-null   int64  \n",
      " 75  MoSold         2919 non-null   object \n",
      " 76  YrSold         2919 non-null   object \n",
      " 77  SaleType       2919 non-null   object \n",
      " 78  SaleCondition  2919 non-null   object \n",
      " 79  SalePrice      1460 non-null   float64\n",
      "dtypes: float64(11), int64(20), int8(17), object(32)\n",
      "memory usage: 1.5+ MB\n"
     ]
    }
   ],
   "source": [
    "df_mvi.info()\n"
   ]
  },
  {
   "cell_type": "markdown",
   "id": "1bc1808d-42a0-4064-a188-7a7af13a2796",
   "metadata": {},
   "source": [
    "## One Hot Encoding for Nominal categorical Data"
   ]
  },
  {
   "cell_type": "code",
   "execution_count": 155,
   "id": "74c64734-ab2a-4314-9565-0791efa002ca",
   "metadata": {
    "tags": []
   },
   "outputs": [
    {
     "name": "stdout",
     "output_type": "stream",
     "text": [
      "total object data type features: 32\n",
      "features: \n",
      " ['MSSubClass', 'MSZoning', 'Street', 'Alley', 'LotShape', 'LandContour', 'LotConfig', 'LandSlope', 'Neighborhood', 'Condition1', 'Condition2', 'BldgType', 'HouseStyle', 'YearBuilt', 'YearRemodAdd', 'RoofStyle', 'RoofMatl', 'Exterior1st', 'Exterior2nd', 'MasVnrType', 'Foundation', 'Heating', 'CentralAir', 'Electrical', 'GarageType', 'GarageYrBlt', 'Fence', 'MiscFeature', 'MoSold', 'YrSold', 'SaleType', 'SaleCondition']\n"
     ]
    }
   ],
   "source": [
    "df_encod = df_mvi.copy()\n",
    "object_features = df_encod.select_dtypes(include = \"object\").columns.tolist()\n",
    "print(\"total object data type features:\", len(object_features))\n",
    "print(\"features: \\n\", object_features)"
   ]
  },
  {
   "cell_type": "code",
   "execution_count": 162,
   "id": "69fe9159-188a-44cb-95ef-3e1c17b649a7",
   "metadata": {
    "tags": []
   },
   "outputs": [
    {
     "name": "stdout",
     "output_type": "stream",
     "text": [
      "shape before encoding: (2919, 80)\n",
      "shape After encoding: (2919, 515)\n"
     ]
    }
   ],
   "source": [
    "print(\"shape before encoding:\" , df_encod.shape)\n",
    "df_encod = pd.get_dummies(df_encod,\n",
    "                          columns=object_features, \n",
    "                          prefix=object_features, \n",
    "                          drop_first = True)\n",
    "print(\"shape After encoding:\" , df_encod.shape)"
   ]
  },
  {
   "cell_type": "code",
   "execution_count": 163,
   "id": "4f181414-6759-4090-a3f5-c9a39bfebb20",
   "metadata": {
    "tags": []
   },
   "outputs": [
    {
     "data": {
      "text/html": [
       "<div>\n",
       "<style scoped>\n",
       "    .dataframe tbody tr th:only-of-type {\n",
       "        vertical-align: middle;\n",
       "    }\n",
       "\n",
       "    .dataframe tbody tr th {\n",
       "        vertical-align: top;\n",
       "    }\n",
       "\n",
       "    .dataframe thead th {\n",
       "        text-align: right;\n",
       "    }\n",
       "</style>\n",
       "<table border=\"1\" class=\"dataframe\">\n",
       "  <thead>\n",
       "    <tr style=\"text-align: right;\">\n",
       "      <th></th>\n",
       "      <th>LotFrontage</th>\n",
       "      <th>LotArea</th>\n",
       "      <th>Utilities</th>\n",
       "      <th>OverallQual</th>\n",
       "      <th>OverallCond</th>\n",
       "      <th>MasVnrArea</th>\n",
       "      <th>ExterQual</th>\n",
       "      <th>ExterCond</th>\n",
       "      <th>BsmtQual</th>\n",
       "      <th>BsmtCond</th>\n",
       "      <th>...</th>\n",
       "      <th>SaleType_ConLw</th>\n",
       "      <th>SaleType_New</th>\n",
       "      <th>SaleType_Oth</th>\n",
       "      <th>SaleType_SBrkr</th>\n",
       "      <th>SaleType_WD</th>\n",
       "      <th>SaleCondition_AdjLand</th>\n",
       "      <th>SaleCondition_Alloca</th>\n",
       "      <th>SaleCondition_Family</th>\n",
       "      <th>SaleCondition_Normal</th>\n",
       "      <th>SaleCondition_Partial</th>\n",
       "    </tr>\n",
       "    <tr>\n",
       "      <th>Id</th>\n",
       "      <th></th>\n",
       "      <th></th>\n",
       "      <th></th>\n",
       "      <th></th>\n",
       "      <th></th>\n",
       "      <th></th>\n",
       "      <th></th>\n",
       "      <th></th>\n",
       "      <th></th>\n",
       "      <th></th>\n",
       "      <th></th>\n",
       "      <th></th>\n",
       "      <th></th>\n",
       "      <th></th>\n",
       "      <th></th>\n",
       "      <th></th>\n",
       "      <th></th>\n",
       "      <th></th>\n",
       "      <th></th>\n",
       "      <th></th>\n",
       "      <th></th>\n",
       "    </tr>\n",
       "  </thead>\n",
       "  <tbody>\n",
       "    <tr>\n",
       "      <th>1</th>\n",
       "      <td>65.0</td>\n",
       "      <td>8450</td>\n",
       "      <td>3</td>\n",
       "      <td>7</td>\n",
       "      <td>5</td>\n",
       "      <td>196.0</td>\n",
       "      <td>3</td>\n",
       "      <td>2</td>\n",
       "      <td>4</td>\n",
       "      <td>3</td>\n",
       "      <td>...</td>\n",
       "      <td>False</td>\n",
       "      <td>False</td>\n",
       "      <td>False</td>\n",
       "      <td>False</td>\n",
       "      <td>True</td>\n",
       "      <td>False</td>\n",
       "      <td>False</td>\n",
       "      <td>False</td>\n",
       "      <td>True</td>\n",
       "      <td>False</td>\n",
       "    </tr>\n",
       "    <tr>\n",
       "      <th>2</th>\n",
       "      <td>80.0</td>\n",
       "      <td>9600</td>\n",
       "      <td>3</td>\n",
       "      <td>6</td>\n",
       "      <td>8</td>\n",
       "      <td>0.0</td>\n",
       "      <td>2</td>\n",
       "      <td>2</td>\n",
       "      <td>4</td>\n",
       "      <td>3</td>\n",
       "      <td>...</td>\n",
       "      <td>False</td>\n",
       "      <td>False</td>\n",
       "      <td>False</td>\n",
       "      <td>False</td>\n",
       "      <td>True</td>\n",
       "      <td>False</td>\n",
       "      <td>False</td>\n",
       "      <td>False</td>\n",
       "      <td>True</td>\n",
       "      <td>False</td>\n",
       "    </tr>\n",
       "  </tbody>\n",
       "</table>\n",
       "<p>2 rows × 515 columns</p>\n",
       "</div>"
      ],
      "text/plain": [
       "    LotFrontage  LotArea  Utilities  OverallQual  OverallCond  MasVnrArea   \n",
       "Id                                                                          \n",
       "1          65.0     8450          3            7            5       196.0  \\\n",
       "2          80.0     9600          3            6            8         0.0   \n",
       "\n",
       "    ExterQual  ExterCond  BsmtQual  BsmtCond  ...  SaleType_ConLw   \n",
       "Id                                            ...                   \n",
       "1           3          2         4         3  ...           False  \\\n",
       "2           2          2         4         3  ...           False   \n",
       "\n",
       "    SaleType_New  SaleType_Oth  SaleType_SBrkr  SaleType_WD   \n",
       "Id                                                            \n",
       "1          False         False           False         True  \\\n",
       "2          False         False           False         True   \n",
       "\n",
       "    SaleCondition_AdjLand  SaleCondition_Alloca  SaleCondition_Family   \n",
       "Id                                                                      \n",
       "1                   False                 False                 False  \\\n",
       "2                   False                 False                 False   \n",
       "\n",
       "    SaleCondition_Normal  SaleCondition_Partial  \n",
       "Id                                               \n",
       "1                   True                  False  \n",
       "2                   True                  False  \n",
       "\n",
       "[2 rows x 515 columns]"
      ]
     },
     "execution_count": 163,
     "metadata": {},
     "output_type": "execute_result"
    }
   ],
   "source": [
    "df_encod.head(2)\n"
   ]
  },
  {
   "cell_type": "markdown",
   "id": "ccb6f2ac-d693-4827-9827-2aff4349866c",
   "metadata": {},
   "source": [
    "## Split Data for TRaining & Testing"
   ]
  },
  {
   "cell_type": "code",
   "execution_count": 164,
   "id": "5340dc42-ebb9-444b-affc-8cbda066153d",
   "metadata": {
    "tags": []
   },
   "outputs": [
    {
     "data": {
      "text/plain": [
       "(2919, 515)"
      ]
     },
     "execution_count": 164,
     "metadata": {},
     "output_type": "execute_result"
    }
   ],
   "source": [
    "df_encod.shape"
   ]
  },
  {
   "cell_type": "code",
   "execution_count": 167,
   "id": "ac5f91fe-b0f4-417e-8e43-7502ad96bd16",
   "metadata": {
    "tags": []
   },
   "outputs": [
    {
     "data": {
      "text/plain": [
       "1460"
      ]
     },
     "execution_count": 167,
     "metadata": {},
     "output_type": "execute_result"
    }
   ],
   "source": [
    "len_train = df_train.shape[0]\n",
    "len_train\n"
   ]
  },
  {
   "cell_type": "code",
   "execution_count": 168,
   "id": "8c08fc88-c4a7-4602-b5d9-cdc10278f5d8",
   "metadata": {
    "tags": []
   },
   "outputs": [
    {
     "name": "stdout",
     "output_type": "stream",
     "text": [
      "shape of X_train (1460, 514)\n",
      "shape of y_train (1460,)\n",
      "shape of  X_test (1459, 514)\n"
     ]
    }
   ],
   "source": [
    "X_train = df_encod[:len_train].drop(\"SalePrice\", axis = 1)\n",
    "y_train = df_encod[\"SalePrice\"][:len_train]\n",
    "\n",
    "X_test = df_encod[len_train:].drop(\"SalePrice\", axis = 1)\n",
    "print(\"shape of X_train\", X_train.shape)\n",
    "print(\"shape of y_train\", y_train.shape)\n",
    "print(\"shape of  X_test\", X_test.shape)\n"
   ]
  },
  {
   "cell_type": "markdown",
   "id": "cc240082-cfe3-4b35-8bcd-3530308f304b",
   "metadata": {
    "tags": []
   },
   "source": [
    "## Feature SZcaling"
   ]
  },
  {
   "cell_type": "code",
   "execution_count": 171,
   "id": "e7b7ac0f-8dfe-4411-9832-dde4bc3975fe",
   "metadata": {
    "tags": []
   },
   "outputs": [],
   "source": [
    "sc = StandardScaler()\n",
    "sc.fit(X_train)\n",
    "\n",
    "#formula z = (x-u)/s\n",
    "X_train = sc.transform(X_train)\n",
    "X_test = sc.transform(X_test)"
   ]
  },
  {
   "cell_type": "code",
   "execution_count": 172,
   "id": "ea5e0ef0-f129-4ac6-bcf8-1b3a300ff3d1",
   "metadata": {
    "tags": []
   },
   "outputs": [
    {
     "data": {
      "text/plain": [
       "array([[-0.22335706, -0.20714171,  0.02618016, ..., -0.11785113,\n",
       "         0.4676514 , -0.30599503],\n",
       "       [ 0.45789401, -0.09188637,  0.02618016, ..., -0.11785113,\n",
       "         0.4676514 , -0.30599503],\n",
       "       [-0.08710685,  0.07347998,  0.02618016, ..., -0.11785113,\n",
       "         0.4676514 , -0.30599503]])"
      ]
     },
     "execution_count": 172,
     "metadata": {},
     "output_type": "execute_result"
    }
   ],
   "source": [
    "X_train[:3,:]"
   ]
  },
  {
   "cell_type": "markdown",
   "id": "1ef74b89-49e2-4fe9-a54c-4d81192ae5c0",
   "metadata": {
    "tags": []
   },
   "source": [
    "## Train ML MOdel"
   ]
  },
  {
   "cell_type": "code",
   "execution_count": 174,
   "id": "1fb99679-abd7-4a8d-9c1f-f9b88c4565d4",
   "metadata": {
    "tags": []
   },
   "outputs": [
    {
     "name": "stdout",
     "output_type": "stream",
     "text": [
      "Collecting xgboost\n",
      "  Downloading xgboost-2.0.2-py3-none-win_amd64.whl (99.8 MB)\n",
      "                                              0.0/99.8 MB ? eta -:--:--\n",
      "                                              0.2/99.8 MB 5.8 MB/s eta 0:00:18\n",
      "                                              0.4/99.8 MB 5.1 MB/s eta 0:00:20\n",
      "                                              0.6/99.8 MB 4.9 MB/s eta 0:00:21\n",
      "                                              0.9/99.8 MB 5.2 MB/s eta 0:00:19\n",
      "                                              1.1/99.8 MB 5.1 MB/s eta 0:00:20\n",
      "                                              1.4/99.8 MB 5.1 MB/s eta 0:00:20\n",
      "                                              1.6/99.8 MB 5.0 MB/s eta 0:00:20\n",
      "                                              1.8/99.8 MB 4.9 MB/s eta 0:00:20\n",
      "                                              2.1/99.8 MB 5.0 MB/s eta 0:00:20\n",
      "                                              2.3/99.8 MB 5.1 MB/s eta 0:00:20\n",
      "                                              2.5/99.8 MB 4.9 MB/s eta 0:00:20\n",
      "     -                                        2.7/99.8 MB 5.0 MB/s eta 0:00:20\n",
      "     -                                        2.9/99.8 MB 4.9 MB/s eta 0:00:20\n",
      "     -                                        3.2/99.8 MB 5.0 MB/s eta 0:00:20\n",
      "     -                                        3.5/99.8 MB 5.1 MB/s eta 0:00:19\n",
      "     -                                        3.7/99.8 MB 5.1 MB/s eta 0:00:19\n",
      "     -                                        4.0/99.8 MB 5.1 MB/s eta 0:00:19\n",
      "     -                                        4.3/99.8 MB 5.2 MB/s eta 0:00:19\n",
      "     -                                        4.6/99.8 MB 5.2 MB/s eta 0:00:19\n",
      "     -                                        4.8/99.8 MB 5.2 MB/s eta 0:00:19\n",
      "     --                                       5.0/99.8 MB 5.2 MB/s eta 0:00:19\n",
      "     --                                       5.3/99.8 MB 5.2 MB/s eta 0:00:19\n",
      "     --                                       5.6/99.8 MB 5.3 MB/s eta 0:00:18\n",
      "     --                                       5.8/99.8 MB 5.3 MB/s eta 0:00:18\n",
      "     --                                       6.1/99.8 MB 5.2 MB/s eta 0:00:18\n",
      "     --                                       6.3/99.8 MB 5.3 MB/s eta 0:00:18\n",
      "     --                                       6.6/99.8 MB 5.3 MB/s eta 0:00:18\n",
      "     --                                       6.9/99.8 MB 5.3 MB/s eta 0:00:18\n",
      "     --                                       7.1/99.8 MB 5.3 MB/s eta 0:00:18\n",
      "     --                                       7.3/99.8 MB 5.3 MB/s eta 0:00:18\n",
      "     ---                                      7.6/99.8 MB 5.3 MB/s eta 0:00:18\n",
      "     ---                                      7.9/99.8 MB 5.3 MB/s eta 0:00:18\n",
      "     ---                                      8.1/99.8 MB 5.3 MB/s eta 0:00:18\n",
      "     ---                                      8.3/99.8 MB 5.3 MB/s eta 0:00:18\n",
      "     ---                                      8.6/99.8 MB 5.3 MB/s eta 0:00:18\n",
      "     ---                                      8.8/99.8 MB 5.3 MB/s eta 0:00:18\n",
      "     ---                                      9.1/99.8 MB 5.3 MB/s eta 0:00:18\n",
      "     ---                                      9.3/99.8 MB 5.3 MB/s eta 0:00:18\n",
      "     ---                                      9.6/99.8 MB 5.3 MB/s eta 0:00:18\n",
      "     ---                                      9.8/99.8 MB 5.2 MB/s eta 0:00:18\n",
      "     ----                                     10.0/99.8 MB 5.2 MB/s eta 0:00:18\n",
      "     ----                                     10.3/99.8 MB 5.3 MB/s eta 0:00:17\n",
      "     ----                                     10.6/99.8 MB 5.4 MB/s eta 0:00:17\n",
      "     ----                                     10.9/99.8 MB 5.4 MB/s eta 0:00:17\n",
      "     ----                                     11.1/99.8 MB 5.3 MB/s eta 0:00:17\n",
      "     ----                                     11.4/99.8 MB 5.4 MB/s eta 0:00:17\n",
      "     ----                                     11.7/99.8 MB 5.4 MB/s eta 0:00:17\n",
      "     ----                                     11.9/99.8 MB 5.5 MB/s eta 0:00:17\n",
      "     ----                                     12.2/99.8 MB 5.5 MB/s eta 0:00:17\n",
      "     ----                                     12.4/99.8 MB 5.5 MB/s eta 0:00:17\n",
      "     -----                                    12.6/99.8 MB 5.5 MB/s eta 0:00:16\n",
      "     -----                                    12.9/99.8 MB 5.5 MB/s eta 0:00:16\n",
      "     -----                                    13.2/99.8 MB 5.5 MB/s eta 0:00:16\n",
      "     -----                                    13.4/99.8 MB 5.6 MB/s eta 0:00:16\n",
      "     -----                                    13.7/99.8 MB 5.5 MB/s eta 0:00:16\n",
      "     -----                                    14.0/99.8 MB 5.5 MB/s eta 0:00:16\n",
      "     -----                                    14.2/99.8 MB 5.5 MB/s eta 0:00:16\n",
      "     -----                                    14.4/99.8 MB 5.5 MB/s eta 0:00:16\n",
      "     -----                                    14.7/99.8 MB 5.5 MB/s eta 0:00:16\n",
      "     -----                                    15.0/99.8 MB 5.5 MB/s eta 0:00:16\n",
      "     ------                                   15.2/99.8 MB 5.5 MB/s eta 0:00:16\n",
      "     ------                                   15.4/99.8 MB 5.4 MB/s eta 0:00:16\n",
      "     ------                                   15.7/99.8 MB 5.5 MB/s eta 0:00:16\n",
      "     ------                                   15.9/99.8 MB 5.4 MB/s eta 0:00:16\n",
      "     ------                                   16.3/99.8 MB 5.5 MB/s eta 0:00:16\n",
      "     ------                                   16.5/99.8 MB 5.4 MB/s eta 0:00:16\n",
      "     ------                                   16.7/99.8 MB 5.4 MB/s eta 0:00:16\n",
      "     ------                                   17.0/99.8 MB 5.4 MB/s eta 0:00:16\n",
      "     ------                                   17.2/99.8 MB 5.4 MB/s eta 0:00:16\n",
      "     -------                                  17.5/99.8 MB 5.4 MB/s eta 0:00:16\n",
      "     -------                                  17.7/99.8 MB 5.5 MB/s eta 0:00:16\n",
      "     -------                                  18.0/99.8 MB 5.5 MB/s eta 0:00:15\n",
      "     -------                                  18.2/99.8 MB 5.4 MB/s eta 0:00:16\n",
      "     -------                                  18.5/99.8 MB 5.5 MB/s eta 0:00:15\n",
      "     -------                                  18.8/99.8 MB 5.5 MB/s eta 0:00:15\n",
      "     -------                                  19.1/99.8 MB 5.5 MB/s eta 0:00:15\n",
      "     -------                                  19.4/99.8 MB 5.5 MB/s eta 0:00:15\n",
      "     -------                                  19.7/99.8 MB 5.6 MB/s eta 0:00:15\n",
      "     --------                                 20.0/99.8 MB 5.6 MB/s eta 0:00:15\n",
      "     --------                                 20.3/99.8 MB 5.6 MB/s eta 0:00:15\n",
      "     --------                                 20.6/99.8 MB 5.6 MB/s eta 0:00:15\n",
      "     --------                                 20.9/99.8 MB 5.6 MB/s eta 0:00:14\n",
      "     --------                                 21.2/99.8 MB 5.7 MB/s eta 0:00:14\n",
      "     --------                                 21.4/99.8 MB 5.6 MB/s eta 0:00:14\n",
      "     --------                                 21.7/99.8 MB 5.7 MB/s eta 0:00:14\n",
      "     --------                                 22.0/99.8 MB 5.7 MB/s eta 0:00:14\n",
      "     --------                                 22.3/99.8 MB 5.7 MB/s eta 0:00:14\n",
      "     ---------                                22.7/99.8 MB 5.8 MB/s eta 0:00:14\n",
      "     ---------                                23.0/99.8 MB 5.8 MB/s eta 0:00:14\n",
      "     ---------                                23.3/99.8 MB 5.8 MB/s eta 0:00:14\n",
      "     ---------                                23.5/99.8 MB 5.8 MB/s eta 0:00:14\n",
      "     ---------                                23.8/99.8 MB 5.8 MB/s eta 0:00:13\n",
      "     ---------                                24.1/99.8 MB 5.8 MB/s eta 0:00:13\n",
      "     ---------                                24.4/99.8 MB 5.9 MB/s eta 0:00:13\n",
      "     ---------                                24.7/99.8 MB 6.0 MB/s eta 0:00:13\n",
      "     ----------                               25.0/99.8 MB 6.0 MB/s eta 0:00:13\n",
      "     ----------                               25.2/99.8 MB 6.0 MB/s eta 0:00:13\n",
      "     ----------                               25.5/99.8 MB 6.0 MB/s eta 0:00:13\n",
      "     ----------                               25.8/99.8 MB 6.0 MB/s eta 0:00:13\n",
      "     ----------                               26.0/99.8 MB 6.0 MB/s eta 0:00:13\n",
      "     ----------                               26.3/99.8 MB 6.0 MB/s eta 0:00:13\n",
      "     ----------                               26.6/99.8 MB 6.0 MB/s eta 0:00:13\n",
      "     ----------                               26.9/99.8 MB 6.1 MB/s eta 0:00:13\n",
      "     ----------                               27.2/99.8 MB 6.1 MB/s eta 0:00:12\n",
      "     -----------                              27.6/99.8 MB 6.1 MB/s eta 0:00:12\n",
      "     -----------                              27.8/99.8 MB 6.2 MB/s eta 0:00:12\n",
      "     -----------                              28.2/99.8 MB 6.2 MB/s eta 0:00:12\n",
      "     -----------                              28.5/99.8 MB 6.3 MB/s eta 0:00:12\n",
      "     -----------                              28.8/99.8 MB 6.4 MB/s eta 0:00:12\n",
      "     -----------                              29.1/99.8 MB 6.3 MB/s eta 0:00:12\n",
      "     -----------                              29.4/99.8 MB 6.3 MB/s eta 0:00:12\n",
      "     -----------                              29.7/99.8 MB 6.3 MB/s eta 0:00:12\n",
      "     ------------                             30.0/99.8 MB 6.2 MB/s eta 0:00:12\n",
      "     ------------                             30.3/99.8 MB 6.3 MB/s eta 0:00:12\n",
      "     ------------                             30.6/99.8 MB 6.2 MB/s eta 0:00:12\n",
      "     ------------                             30.9/99.8 MB 6.3 MB/s eta 0:00:11\n",
      "     ------------                             31.2/99.8 MB 6.3 MB/s eta 0:00:11\n",
      "     ------------                             31.5/99.8 MB 6.3 MB/s eta 0:00:11\n",
      "     ------------                             31.8/99.8 MB 6.4 MB/s eta 0:00:11\n",
      "     ------------                             32.1/99.8 MB 6.3 MB/s eta 0:00:11\n",
      "     ------------                             32.4/99.8 MB 6.3 MB/s eta 0:00:11\n",
      "     -------------                            32.7/99.8 MB 6.3 MB/s eta 0:00:11\n",
      "     -------------                            33.0/99.8 MB 6.4 MB/s eta 0:00:11\n",
      "     -------------                            33.3/99.8 MB 6.3 MB/s eta 0:00:11\n",
      "     -------------                            33.6/99.8 MB 6.3 MB/s eta 0:00:11\n",
      "     -------------                            33.9/99.8 MB 6.3 MB/s eta 0:00:11\n",
      "     -------------                            34.2/99.8 MB 6.4 MB/s eta 0:00:11\n",
      "     -------------                            34.5/99.8 MB 6.4 MB/s eta 0:00:11\n",
      "     -------------                            34.8/99.8 MB 6.3 MB/s eta 0:00:11\n",
      "     --------------                           35.0/99.8 MB 6.3 MB/s eta 0:00:11\n",
      "     --------------                           35.3/99.8 MB 6.2 MB/s eta 0:00:11\n",
      "     --------------                           35.6/99.8 MB 6.3 MB/s eta 0:00:11\n",
      "     --------------                           35.8/99.8 MB 6.3 MB/s eta 0:00:11\n",
      "     --------------                           36.1/99.8 MB 6.4 MB/s eta 0:00:11\n",
      "     --------------                           36.5/99.8 MB 6.4 MB/s eta 0:00:10\n",
      "     --------------                           36.7/99.8 MB 6.3 MB/s eta 0:00:11\n",
      "     --------------                           37.0/99.8 MB 6.4 MB/s eta 0:00:10\n",
      "     --------------                           37.3/99.8 MB 6.4 MB/s eta 0:00:10\n",
      "     ---------------                          37.5/99.8 MB 6.2 MB/s eta 0:00:10\n",
      "     ---------------                          37.8/99.8 MB 6.2 MB/s eta 0:00:10\n",
      "     ---------------                          38.0/99.8 MB 6.2 MB/s eta 0:00:11\n",
      "     ---------------                          38.3/99.8 MB 6.2 MB/s eta 0:00:10\n",
      "     ---------------                          38.5/99.8 MB 6.2 MB/s eta 0:00:10\n",
      "     ---------------                          38.9/99.8 MB 6.1 MB/s eta 0:00:10\n",
      "     ---------------                          39.2/99.8 MB 6.2 MB/s eta 0:00:10\n",
      "     ---------------                          39.4/99.8 MB 6.2 MB/s eta 0:00:10\n",
      "     ---------------                          39.6/99.8 MB 6.2 MB/s eta 0:00:10\n",
      "     ---------------                          39.8/99.8 MB 6.0 MB/s eta 0:00:10\n",
      "     ----------------                         40.1/99.8 MB 6.1 MB/s eta 0:00:10\n",
      "     ----------------                         40.4/99.8 MB 6.0 MB/s eta 0:00:10\n",
      "     ----------------                         40.7/99.8 MB 6.0 MB/s eta 0:00:10\n",
      "     ----------------                         41.0/99.8 MB 6.0 MB/s eta 0:00:10\n",
      "     ----------------                         41.2/99.8 MB 6.0 MB/s eta 0:00:10\n",
      "     ----------------                         41.5/99.8 MB 6.0 MB/s eta 0:00:10\n",
      "     ----------------                         41.9/99.8 MB 6.0 MB/s eta 0:00:10\n",
      "     ----------------                         42.2/99.8 MB 6.0 MB/s eta 0:00:10\n",
      "     -----------------                        42.5/99.8 MB 6.0 MB/s eta 0:00:10\n",
      "     -----------------                        42.8/99.8 MB 6.0 MB/s eta 0:00:10\n",
      "     -----------------                        43.0/99.8 MB 6.0 MB/s eta 0:00:10\n",
      "     -----------------                        43.3/99.8 MB 6.0 MB/s eta 0:00:10\n",
      "     -----------------                        43.6/99.8 MB 6.0 MB/s eta 0:00:10\n",
      "     -----------------                        43.9/99.8 MB 6.0 MB/s eta 0:00:10\n",
      "     -----------------                        44.1/99.8 MB 5.9 MB/s eta 0:00:10\n",
      "     -----------------                        44.4/99.8 MB 6.0 MB/s eta 0:00:10\n",
      "     -----------------                        44.6/99.8 MB 5.8 MB/s eta 0:00:10\n",
      "     ------------------                       45.0/99.8 MB 5.9 MB/s eta 0:00:10\n",
      "     ------------------                       45.3/99.8 MB 5.9 MB/s eta 0:00:10\n",
      "     ------------------                       45.6/99.8 MB 6.0 MB/s eta 0:00:10\n",
      "     ------------------                       45.9/99.8 MB 6.0 MB/s eta 0:00:09\n",
      "     ------------------                       46.2/99.8 MB 6.0 MB/s eta 0:00:09\n",
      "     ------------------                       46.6/99.8 MB 6.0 MB/s eta 0:00:09\n",
      "     ------------------                       46.9/99.8 MB 6.0 MB/s eta 0:00:09\n",
      "     ------------------                       47.2/99.8 MB 6.0 MB/s eta 0:00:09\n",
      "     -------------------                      47.5/99.8 MB 6.0 MB/s eta 0:00:09\n",
      "     -------------------                      47.8/99.8 MB 6.1 MB/s eta 0:00:09\n",
      "     -------------------                      48.1/99.8 MB 6.1 MB/s eta 0:00:09\n",
      "     -------------------                      48.3/99.8 MB 6.2 MB/s eta 0:00:09\n",
      "     -------------------                      48.6/99.8 MB 6.2 MB/s eta 0:00:09\n",
      "     -------------------                      48.9/99.8 MB 6.1 MB/s eta 0:00:09\n",
      "     -------------------                      49.2/99.8 MB 6.2 MB/s eta 0:00:09\n",
      "     -------------------                      49.6/99.8 MB 6.2 MB/s eta 0:00:09\n",
      "     -------------------                      49.8/99.8 MB 6.2 MB/s eta 0:00:09\n",
      "     --------------------                     50.1/99.8 MB 6.4 MB/s eta 0:00:08\n",
      "     --------------------                     50.4/99.8 MB 6.3 MB/s eta 0:00:08\n",
      "     --------------------                     50.7/99.8 MB 6.3 MB/s eta 0:00:08\n",
      "     --------------------                     51.0/99.8 MB 6.3 MB/s eta 0:00:08\n",
      "     --------------------                     51.3/99.8 MB 6.3 MB/s eta 0:00:08\n",
      "     --------------------                     51.5/99.8 MB 6.3 MB/s eta 0:00:08\n",
      "     --------------------                     51.8/99.8 MB 6.3 MB/s eta 0:00:08\n",
      "     --------------------                     51.9/99.8 MB 6.1 MB/s eta 0:00:08\n",
      "     --------------------                     52.2/99.8 MB 6.1 MB/s eta 0:00:08\n",
      "     ---------------------                    52.5/99.8 MB 6.1 MB/s eta 0:00:08\n",
      "     ---------------------                    52.8/99.8 MB 6.1 MB/s eta 0:00:08\n",
      "     ---------------------                    53.1/99.8 MB 6.2 MB/s eta 0:00:08\n",
      "     ---------------------                    53.4/99.8 MB 6.2 MB/s eta 0:00:08\n",
      "     ---------------------                    53.7/99.8 MB 6.2 MB/s eta 0:00:08\n",
      "     ---------------------                    54.0/99.8 MB 6.2 MB/s eta 0:00:08\n",
      "     ---------------------                    54.3/99.8 MB 6.3 MB/s eta 0:00:08\n",
      "     ---------------------                    54.6/99.8 MB 6.2 MB/s eta 0:00:08\n",
      "     ----------------------                   54.9/99.8 MB 6.2 MB/s eta 0:00:08\n",
      "     ----------------------                   55.2/99.8 MB 6.2 MB/s eta 0:00:08\n",
      "     ----------------------                   55.5/99.8 MB 6.3 MB/s eta 0:00:08\n",
      "     ----------------------                   55.7/99.8 MB 6.2 MB/s eta 0:00:08\n",
      "     ----------------------                   56.1/99.8 MB 6.2 MB/s eta 0:00:08\n",
      "     ----------------------                   56.4/99.8 MB 6.2 MB/s eta 0:00:08\n",
      "     ----------------------                   56.6/99.8 MB 6.2 MB/s eta 0:00:07\n",
      "     ----------------------                   56.8/99.8 MB 6.1 MB/s eta 0:00:08\n",
      "     ----------------------                   57.1/99.8 MB 6.1 MB/s eta 0:00:07\n",
      "     -----------------------                  57.4/99.8 MB 6.1 MB/s eta 0:00:07\n",
      "     -----------------------                  57.7/99.8 MB 6.1 MB/s eta 0:00:07\n",
      "     -----------------------                  58.0/99.8 MB 6.1 MB/s eta 0:00:07\n",
      "     -----------------------                  58.3/99.8 MB 6.1 MB/s eta 0:00:07\n",
      "     -----------------------                  58.5/99.8 MB 6.0 MB/s eta 0:00:07\n",
      "     -----------------------                  58.8/99.8 MB 6.1 MB/s eta 0:00:07\n",
      "     -----------------------                  59.1/99.8 MB 6.1 MB/s eta 0:00:07\n",
      "     -----------------------                  59.4/99.8 MB 6.1 MB/s eta 0:00:07\n",
      "     -----------------------                  59.7/99.8 MB 6.1 MB/s eta 0:00:07\n",
      "     ------------------------                 60.0/99.8 MB 6.1 MB/s eta 0:00:07\n",
      "     ------------------------                 60.3/99.8 MB 6.1 MB/s eta 0:00:07\n",
      "     ------------------------                 60.6/99.8 MB 6.1 MB/s eta 0:00:07\n",
      "     ------------------------                 60.9/99.8 MB 6.1 MB/s eta 0:00:07\n",
      "     ------------------------                 61.3/99.8 MB 6.1 MB/s eta 0:00:07\n",
      "     ------------------------                 61.6/99.8 MB 6.1 MB/s eta 0:00:07\n",
      "     ------------------------                 61.9/99.8 MB 6.2 MB/s eta 0:00:07\n",
      "     ------------------------                 62.2/99.8 MB 6.3 MB/s eta 0:00:06\n",
      "     -------------------------                62.5/99.8 MB 6.4 MB/s eta 0:00:06\n",
      "     -------------------------                62.8/99.8 MB 6.4 MB/s eta 0:00:06\n",
      "     -------------------------                63.1/99.8 MB 6.3 MB/s eta 0:00:06\n",
      "     -------------------------                63.4/99.8 MB 6.3 MB/s eta 0:00:06\n",
      "     -------------------------                63.8/99.8 MB 6.4 MB/s eta 0:00:06\n",
      "     -------------------------                64.0/99.8 MB 6.4 MB/s eta 0:00:06\n",
      "     -------------------------                64.4/99.8 MB 6.4 MB/s eta 0:00:06\n",
      "     --------------------------               64.9/99.8 MB 6.4 MB/s eta 0:00:06\n",
      "     --------------------------               65.1/99.8 MB 6.4 MB/s eta 0:00:06\n",
      "     --------------------------               65.5/99.8 MB 6.4 MB/s eta 0:00:06\n",
      "     --------------------------               65.8/99.8 MB 6.4 MB/s eta 0:00:06\n",
      "     --------------------------               66.1/99.8 MB 6.4 MB/s eta 0:00:06\n",
      "     --------------------------               66.4/99.8 MB 6.4 MB/s eta 0:00:06\n",
      "     --------------------------               66.7/99.8 MB 6.5 MB/s eta 0:00:06\n",
      "     --------------------------               67.0/99.8 MB 6.5 MB/s eta 0:00:06\n",
      "     --------------------------               67.3/99.8 MB 6.5 MB/s eta 0:00:06\n",
      "     ---------------------------              67.6/99.8 MB 6.5 MB/s eta 0:00:05\n",
      "     ---------------------------              67.9/99.8 MB 6.5 MB/s eta 0:00:05\n",
      "     ---------------------------              68.2/99.8 MB 6.5 MB/s eta 0:00:05\n",
      "     ---------------------------              68.5/99.8 MB 6.5 MB/s eta 0:00:05\n",
      "     ---------------------------              68.8/99.8 MB 6.5 MB/s eta 0:00:05\n",
      "     ---------------------------              69.2/99.8 MB 6.5 MB/s eta 0:00:05\n",
      "     ---------------------------              69.4/99.8 MB 6.5 MB/s eta 0:00:05\n",
      "     ---------------------------              69.8/99.8 MB 6.6 MB/s eta 0:00:05\n",
      "     ----------------------------             70.1/99.8 MB 6.5 MB/s eta 0:00:05\n",
      "     ----------------------------             70.4/99.8 MB 6.5 MB/s eta 0:00:05\n",
      "     ----------------------------             70.6/99.8 MB 6.5 MB/s eta 0:00:05\n",
      "     ----------------------------             71.0/99.8 MB 6.5 MB/s eta 0:00:05\n",
      "     ----------------------------             71.3/99.8 MB 6.5 MB/s eta 0:00:05\n",
      "     ----------------------------             71.6/99.8 MB 6.6 MB/s eta 0:00:05\n",
      "     ----------------------------             71.9/99.8 MB 6.5 MB/s eta 0:00:05\n",
      "     ----------------------------             72.2/99.8 MB 6.5 MB/s eta 0:00:05\n",
      "     -----------------------------            72.5/99.8 MB 6.5 MB/s eta 0:00:05\n",
      "     -----------------------------            72.8/99.8 MB 6.5 MB/s eta 0:00:05\n",
      "     -----------------------------            73.0/99.8 MB 6.5 MB/s eta 0:00:05\n",
      "     -----------------------------            73.4/99.8 MB 6.5 MB/s eta 0:00:05\n",
      "     -----------------------------            73.7/99.8 MB 6.5 MB/s eta 0:00:04\n",
      "     -----------------------------            74.0/99.8 MB 6.5 MB/s eta 0:00:04\n",
      "     -----------------------------            74.3/99.8 MB 6.5 MB/s eta 0:00:04\n",
      "     -----------------------------            74.6/99.8 MB 6.7 MB/s eta 0:00:04\n",
      "     ------------------------------           74.9/99.8 MB 6.5 MB/s eta 0:00:04\n",
      "     ------------------------------           75.3/99.8 MB 6.5 MB/s eta 0:00:04\n",
      "     ------------------------------           75.6/99.8 MB 6.6 MB/s eta 0:00:04\n",
      "     ------------------------------           75.9/99.8 MB 6.6 MB/s eta 0:00:04\n",
      "     ------------------------------           76.2/99.8 MB 6.6 MB/s eta 0:00:04\n",
      "     ------------------------------           76.6/99.8 MB 6.6 MB/s eta 0:00:04\n",
      "     ------------------------------           76.9/99.8 MB 6.6 MB/s eta 0:00:04\n",
      "     ------------------------------           77.2/99.8 MB 6.6 MB/s eta 0:00:04\n",
      "     -------------------------------          77.5/99.8 MB 6.6 MB/s eta 0:00:04\n",
      "     -------------------------------          77.8/99.8 MB 6.6 MB/s eta 0:00:04\n",
      "     -------------------------------          78.1/99.8 MB 6.6 MB/s eta 0:00:04\n",
      "     -------------------------------          78.4/99.8 MB 6.6 MB/s eta 0:00:04\n",
      "     -------------------------------          78.8/99.8 MB 6.7 MB/s eta 0:00:04\n",
      "     -------------------------------          79.1/99.8 MB 6.7 MB/s eta 0:00:04\n",
      "     -------------------------------          79.4/99.8 MB 6.7 MB/s eta 0:00:04\n",
      "     -------------------------------          79.7/99.8 MB 6.7 MB/s eta 0:00:03\n",
      "     --------------------------------         80.0/99.8 MB 6.7 MB/s eta 0:00:03\n",
      "     --------------------------------         80.4/99.8 MB 6.6 MB/s eta 0:00:03\n",
      "     --------------------------------         80.6/99.8 MB 6.7 MB/s eta 0:00:03\n",
      "     --------------------------------         80.9/99.8 MB 6.6 MB/s eta 0:00:03\n",
      "     --------------------------------         81.3/99.8 MB 6.6 MB/s eta 0:00:03\n",
      "     --------------------------------         81.6/99.8 MB 6.8 MB/s eta 0:00:03\n",
      "     --------------------------------         81.9/99.8 MB 6.7 MB/s eta 0:00:03\n",
      "     --------------------------------         82.2/99.8 MB 6.7 MB/s eta 0:00:03\n",
      "     ---------------------------------        82.5/99.8 MB 6.7 MB/s eta 0:00:03\n",
      "     ---------------------------------        82.9/99.8 MB 6.7 MB/s eta 0:00:03\n",
      "     ---------------------------------        83.1/99.8 MB 6.7 MB/s eta 0:00:03\n",
      "     ---------------------------------        83.4/99.8 MB 6.7 MB/s eta 0:00:03\n",
      "     ---------------------------------        83.7/99.8 MB 6.7 MB/s eta 0:00:03\n",
      "     ---------------------------------        84.0/99.8 MB 6.7 MB/s eta 0:00:03\n",
      "     ---------------------------------        84.2/99.8 MB 6.6 MB/s eta 0:00:03\n",
      "     ---------------------------------        84.5/99.8 MB 6.6 MB/s eta 0:00:03\n",
      "     ----------------------------------       84.8/99.8 MB 6.6 MB/s eta 0:00:03\n",
      "     ----------------------------------       85.2/99.8 MB 6.6 MB/s eta 0:00:03\n",
      "     ----------------------------------       85.5/99.8 MB 6.6 MB/s eta 0:00:03\n",
      "     ----------------------------------       85.8/99.8 MB 6.6 MB/s eta 0:00:03\n",
      "     ----------------------------------       86.1/99.8 MB 6.6 MB/s eta 0:00:03\n",
      "     ----------------------------------       86.4/99.8 MB 6.6 MB/s eta 0:00:03\n",
      "     ----------------------------------       86.7/99.8 MB 6.5 MB/s eta 0:00:03\n",
      "     ----------------------------------       87.0/99.8 MB 6.5 MB/s eta 0:00:02\n",
      "     ----------------------------------       87.3/99.8 MB 6.5 MB/s eta 0:00:02\n",
      "     -----------------------------------      87.5/99.8 MB 6.5 MB/s eta 0:00:02\n",
      "     -----------------------------------      87.8/99.8 MB 6.5 MB/s eta 0:00:02\n",
      "     -----------------------------------      88.1/99.8 MB 6.5 MB/s eta 0:00:02\n",
      "     -----------------------------------      88.4/99.8 MB 6.5 MB/s eta 0:00:02\n",
      "     -----------------------------------      88.8/99.8 MB 6.5 MB/s eta 0:00:02\n",
      "     -----------------------------------      89.1/99.8 MB 6.4 MB/s eta 0:00:02\n",
      "     -----------------------------------      89.4/99.8 MB 6.5 MB/s eta 0:00:02\n",
      "     -----------------------------------      89.7/99.8 MB 6.5 MB/s eta 0:00:02\n",
      "     ------------------------------------     90.0/99.8 MB 6.5 MB/s eta 0:00:02\n",
      "     ------------------------------------     90.4/99.8 MB 6.5 MB/s eta 0:00:02\n",
      "     ------------------------------------     90.5/99.8 MB 6.4 MB/s eta 0:00:02\n",
      "     ------------------------------------     90.8/99.8 MB 6.4 MB/s eta 0:00:02\n",
      "     ------------------------------------     91.2/99.8 MB 6.4 MB/s eta 0:00:02\n",
      "     ------------------------------------     91.5/99.8 MB 6.4 MB/s eta 0:00:02\n",
      "     ------------------------------------     91.8/99.8 MB 6.4 MB/s eta 0:00:02\n",
      "     ------------------------------------     92.1/99.8 MB 6.4 MB/s eta 0:00:02\n",
      "     -------------------------------------    92.4/99.8 MB 6.4 MB/s eta 0:00:02\n",
      "     -------------------------------------    92.7/99.8 MB 6.4 MB/s eta 0:00:02\n",
      "     -------------------------------------    93.1/99.8 MB 6.4 MB/s eta 0:00:02\n",
      "     -------------------------------------    93.4/99.8 MB 6.4 MB/s eta 0:00:01\n",
      "     -------------------------------------    93.7/99.8 MB 6.5 MB/s eta 0:00:01\n",
      "     -------------------------------------    94.0/99.8 MB 6.5 MB/s eta 0:00:01\n",
      "     -------------------------------------    94.3/99.8 MB 6.5 MB/s eta 0:00:01\n",
      "     -------------------------------------    94.6/99.8 MB 6.5 MB/s eta 0:00:01\n",
      "     --------------------------------------   94.9/99.8 MB 6.5 MB/s eta 0:00:01\n",
      "     --------------------------------------   95.3/99.8 MB 6.5 MB/s eta 0:00:01\n",
      "     --------------------------------------   95.5/99.8 MB 6.5 MB/s eta 0:00:01\n",
      "     --------------------------------------   95.9/99.8 MB 6.5 MB/s eta 0:00:01\n",
      "     --------------------------------------   96.2/99.8 MB 6.5 MB/s eta 0:00:01\n",
      "     --------------------------------------   96.5/99.8 MB 6.6 MB/s eta 0:00:01\n",
      "     --------------------------------------   96.8/99.8 MB 6.6 MB/s eta 0:00:01\n",
      "     --------------------------------------   97.1/99.8 MB 6.6 MB/s eta 0:00:01\n",
      "     ---------------------------------------  97.5/99.8 MB 6.6 MB/s eta 0:00:01\n",
      "     ---------------------------------------  97.8/99.8 MB 6.7 MB/s eta 0:00:01\n",
      "     ---------------------------------------  98.1/99.8 MB 6.7 MB/s eta 0:00:01\n",
      "     ---------------------------------------  98.4/99.8 MB 6.7 MB/s eta 0:00:01\n",
      "     ---------------------------------------  98.7/99.8 MB 6.7 MB/s eta 0:00:01\n",
      "     ---------------------------------------  99.0/99.8 MB 6.6 MB/s eta 0:00:01\n",
      "     ---------------------------------------  99.3/99.8 MB 6.7 MB/s eta 0:00:01\n",
      "     ---------------------------------------  99.6/99.8 MB 6.6 MB/s eta 0:00:01\n",
      "     ---------------------------------------  99.7/99.8 MB 6.7 MB/s eta 0:00:01\n",
      "     ---------------------------------------  99.7/99.8 MB 6.7 MB/s eta 0:00:01\n",
      "     ---------------------------------------  99.7/99.8 MB 6.7 MB/s eta 0:00:01\n",
      "     ---------------------------------------  99.7/99.8 MB 6.7 MB/s eta 0:00:01\n",
      "     ---------------------------------------  99.7/99.8 MB 6.7 MB/s eta 0:00:01\n",
      "     ---------------------------------------  99.7/99.8 MB 6.7 MB/s eta 0:00:01\n",
      "     ---------------------------------------  99.7/99.8 MB 6.7 MB/s eta 0:00:01\n",
      "     ---------------------------------------  99.7/99.8 MB 6.7 MB/s eta 0:00:01\n",
      "     ---------------------------------------  99.7/99.8 MB 6.7 MB/s eta 0:00:01\n",
      "     ---------------------------------------  99.7/99.8 MB 6.7 MB/s eta 0:00:01\n",
      "     ---------------------------------------  99.7/99.8 MB 6.7 MB/s eta 0:00:01\n",
      "     ---------------------------------------- 99.8/99.8 MB 4.7 MB/s eta 0:00:00\n",
      "Requirement already satisfied: numpy in c:\\users\\prerna\\anaconda3\\lib\\site-packages (from xgboost) (1.24.3)\n",
      "Requirement already satisfied: scipy in c:\\users\\prerna\\anaconda3\\lib\\site-packages (from xgboost) (1.10.1)\n",
      "Installing collected packages: xgboost\n",
      "Successfully installed xgboost-2.0.2\n"
     ]
    },
    {
     "name": "stderr",
     "output_type": "stream",
     "text": [
      "\n",
      "[notice] A new release of pip is available: 23.1.2 -> 23.3.1\n",
      "[notice] To update, run: python.exe -m pip install --upgrade pip\n"
     ]
    }
   ],
   "source": [
    "!pip install xgboost"
   ]
  },
  {
   "cell_type": "code",
   "execution_count": 176,
   "id": "241aa979-9838-4468-a96a-1225324799cc",
   "metadata": {
    "tags": []
   },
   "outputs": [
    {
     "data": {
      "text/html": [
       "<style>#sk-container-id-2 {color: black;}#sk-container-id-2 pre{padding: 0;}#sk-container-id-2 div.sk-toggleable {background-color: white;}#sk-container-id-2 label.sk-toggleable__label {cursor: pointer;display: block;width: 100%;margin-bottom: 0;padding: 0.3em;box-sizing: border-box;text-align: center;}#sk-container-id-2 label.sk-toggleable__label-arrow:before {content: \"▸\";float: left;margin-right: 0.25em;color: #696969;}#sk-container-id-2 label.sk-toggleable__label-arrow:hover:before {color: black;}#sk-container-id-2 div.sk-estimator:hover label.sk-toggleable__label-arrow:before {color: black;}#sk-container-id-2 div.sk-toggleable__content {max-height: 0;max-width: 0;overflow: hidden;text-align: left;background-color: #f0f8ff;}#sk-container-id-2 div.sk-toggleable__content pre {margin: 0.2em;color: black;border-radius: 0.25em;background-color: #f0f8ff;}#sk-container-id-2 input.sk-toggleable__control:checked~div.sk-toggleable__content {max-height: 200px;max-width: 100%;overflow: auto;}#sk-container-id-2 input.sk-toggleable__control:checked~label.sk-toggleable__label-arrow:before {content: \"▾\";}#sk-container-id-2 div.sk-estimator input.sk-toggleable__control:checked~label.sk-toggleable__label {background-color: #d4ebff;}#sk-container-id-2 div.sk-label input.sk-toggleable__control:checked~label.sk-toggleable__label {background-color: #d4ebff;}#sk-container-id-2 input.sk-hidden--visually {border: 0;clip: rect(1px 1px 1px 1px);clip: rect(1px, 1px, 1px, 1px);height: 1px;margin: -1px;overflow: hidden;padding: 0;position: absolute;width: 1px;}#sk-container-id-2 div.sk-estimator {font-family: monospace;background-color: #f0f8ff;border: 1px dotted black;border-radius: 0.25em;box-sizing: border-box;margin-bottom: 0.5em;}#sk-container-id-2 div.sk-estimator:hover {background-color: #d4ebff;}#sk-container-id-2 div.sk-parallel-item::after {content: \"\";width: 100%;border-bottom: 1px solid gray;flex-grow: 1;}#sk-container-id-2 div.sk-label:hover label.sk-toggleable__label {background-color: #d4ebff;}#sk-container-id-2 div.sk-serial::before {content: \"\";position: absolute;border-left: 1px solid gray;box-sizing: border-box;top: 0;bottom: 0;left: 50%;z-index: 0;}#sk-container-id-2 div.sk-serial {display: flex;flex-direction: column;align-items: center;background-color: white;padding-right: 0.2em;padding-left: 0.2em;position: relative;}#sk-container-id-2 div.sk-item {position: relative;z-index: 1;}#sk-container-id-2 div.sk-parallel {display: flex;align-items: stretch;justify-content: center;background-color: white;position: relative;}#sk-container-id-2 div.sk-item::before, #sk-container-id-2 div.sk-parallel-item::before {content: \"\";position: absolute;border-left: 1px solid gray;box-sizing: border-box;top: 0;bottom: 0;left: 50%;z-index: -1;}#sk-container-id-2 div.sk-parallel-item {display: flex;flex-direction: column;z-index: 1;position: relative;background-color: white;}#sk-container-id-2 div.sk-parallel-item:first-child::after {align-self: flex-end;width: 50%;}#sk-container-id-2 div.sk-parallel-item:last-child::after {align-self: flex-start;width: 50%;}#sk-container-id-2 div.sk-parallel-item:only-child::after {width: 0;}#sk-container-id-2 div.sk-dashed-wrapped {border: 1px dashed gray;margin: 0 0.4em 0.5em 0.4em;box-sizing: border-box;padding-bottom: 0.4em;background-color: white;}#sk-container-id-2 div.sk-label label {font-family: monospace;font-weight: bold;display: inline-block;line-height: 1.2em;}#sk-container-id-2 div.sk-label-container {text-align: center;}#sk-container-id-2 div.sk-container {/* jupyter's `normalize.less` sets `[hidden] { display: none; }` but bootstrap.min.css set `[hidden] { display: none !important; }` so we also need the `!important` here to be able to override the default hidden behavior on the sphinx rendered scikit-learn.org. See: https://github.com/scikit-learn/scikit-learn/issues/21755 */display: inline-block !important;position: relative;}#sk-container-id-2 div.sk-text-repr-fallback {display: none;}</style><div id=\"sk-container-id-2\" class=\"sk-top-container\"><div class=\"sk-text-repr-fallback\"><pre>XGBRegressor(alpha=10, base_score=None, booster=None, callbacks=None,\n",
       "             colsample_bylevel=None, colsample_bynode=None,\n",
       "             colsample_bytree=0.3, device=None, early_stopping_rounds=None,\n",
       "             enable_categorical=False, eval_metric=None, feature_types=None,\n",
       "             gamma=None, grow_policy=None, importance_type=None,\n",
       "             interaction_constraints=None, learning_rate=0.1, max_bin=None,\n",
       "             max_cat_threshold=None, max_cat_to_onehot=None,\n",
       "             max_delta_step=None, max_depth=5, max_leaves=None,\n",
       "             min_child_weight=None, missing=nan, monotone_constraints=None,\n",
       "             multi_strategy=None, n_estimators=10, n_jobs=None,\n",
       "             num_parallel_tree=None, ...)</pre><b>In a Jupyter environment, please rerun this cell to show the HTML representation or trust the notebook. <br />On GitHub, the HTML representation is unable to render, please try loading this page with nbviewer.org.</b></div><div class=\"sk-container\" hidden><div class=\"sk-item\"><div class=\"sk-estimator sk-toggleable\"><input class=\"sk-toggleable__control sk-hidden--visually\" id=\"sk-estimator-id-2\" type=\"checkbox\" checked><label for=\"sk-estimator-id-2\" class=\"sk-toggleable__label sk-toggleable__label-arrow\">XGBRegressor</label><div class=\"sk-toggleable__content\"><pre>XGBRegressor(alpha=10, base_score=None, booster=None, callbacks=None,\n",
       "             colsample_bylevel=None, colsample_bynode=None,\n",
       "             colsample_bytree=0.3, device=None, early_stopping_rounds=None,\n",
       "             enable_categorical=False, eval_metric=None, feature_types=None,\n",
       "             gamma=None, grow_policy=None, importance_type=None,\n",
       "             interaction_constraints=None, learning_rate=0.1, max_bin=None,\n",
       "             max_cat_threshold=None, max_cat_to_onehot=None,\n",
       "             max_delta_step=None, max_depth=5, max_leaves=None,\n",
       "             min_child_weight=None, missing=nan, monotone_constraints=None,\n",
       "             multi_strategy=None, n_estimators=10, n_jobs=None,\n",
       "             num_parallel_tree=None, ...)</pre></div></div></div></div></div>"
      ],
      "text/plain": [
       "XGBRegressor(alpha=10, base_score=None, booster=None, callbacks=None,\n",
       "             colsample_bylevel=None, colsample_bynode=None,\n",
       "             colsample_bytree=0.3, device=None, early_stopping_rounds=None,\n",
       "             enable_categorical=False, eval_metric=None, feature_types=None,\n",
       "             gamma=None, grow_policy=None, importance_type=None,\n",
       "             interaction_constraints=None, learning_rate=0.1, max_bin=None,\n",
       "             max_cat_threshold=None, max_cat_to_onehot=None,\n",
       "             max_delta_step=None, max_depth=5, max_leaves=None,\n",
       "             min_child_weight=None, missing=nan, monotone_constraints=None,\n",
       "             multi_strategy=None, n_estimators=10, n_jobs=None,\n",
       "             num_parallel_tree=None, ...)"
      ]
     },
     "execution_count": 176,
     "metadata": {},
     "output_type": "execute_result"
    }
   ],
   "source": [
    "import xgboost as xgb\n",
    "\n",
    "# Create XGBoost Regressor\n",
    "xg_reg = xgb.XGBRegressor(objective ='reg:squarederror', colsample_bytree = 0.3, learning_rate = 0.1,\n",
    "                max_depth = 5, alpha = 10, n_estimators = 10)\n",
    "\n",
    "# Train the model\n",
    "xg_reg.fit(X_train, y_train)\n"
   ]
  },
  {
   "cell_type": "code",
   "execution_count": 183,
   "id": "015141ea-4a7a-4ef1-865c-8f1b64008bfe",
   "metadata": {
    "tags": []
   },
   "outputs": [
    {
     "name": "stdout",
     "output_type": "stream",
     "text": [
      "XGBoost Cross-Validation RMSE Scores:\n",
      "[34385.39861283 43256.14363219 40328.81718808 47647.15525905\n",
      " 57991.66201315 44426.23131401 38808.85899527 39320.1933273\n",
      " 55524.56894033 38827.82159063]\n",
      "\n",
      "Mean RMSE: 44051.68508728295\n"
     ]
    }
   ],
   "source": [
    "import xgboost as xgb\n",
    "from sklearn.model_selection import cross_val_score\n",
    "\n",
    "# Create XGBoost Regressor\n",
    "xg_reg = xgb.XGBRegressor(objective='reg:squarederror', colsample_bytree=0.3, learning_rate=0.1,\n",
    "                          max_depth=5, alpha=10, n_estimators=10)\n",
    "\n",
    "# Cross-validate the model\n",
    "cv_scores = cross_val_score(xg_reg, X_train, y_train, cv=10, scoring='neg_mean_squared_error')\n",
    "\n",
    "# Convert the scores to positive values\n",
    "rmse_scores = np.sqrt(-cv_scores)\n",
    "\n",
    "# Print the RMSE scores\n",
    "print(\"XGBoost Cross-Validation RMSE Scores:\")\n",
    "print(rmse_scores)\n",
    "\n",
    "# Print the mean RMSE\n",
    "print(f\"\\nMean RMSE: {rmse_scores.mean()}\")\n",
    "\n"
   ]
  },
  {
   "cell_type": "code",
   "execution_count": 186,
   "id": "02b9c639-f8d4-4b5c-afa8-fd3f992c2cee",
   "metadata": {
    "tags": []
   },
   "outputs": [
    {
     "name": "stdout",
     "output_type": "stream",
     "text": [
      "XGBoost Cross-Validated RMSE: 44642.60298959729\n",
      "XGBoost Cross-Validated R^2: 0.6839973348216457\n"
     ]
    },
    {
     "data": {
      "image/png": "[encoded data removed]",
      "text/plain": [
       "<Figure size 640x480 with 1 Axes>"
      ]
     },
     "metadata": {},
     "output_type": "display_data"
    }
   ],
   "source": [
    "import xgboost as xgb\n",
    "from sklearn.model_selection import cross_val_predict\n",
    "from sklearn.metrics import mean_squared_error, r2_score\n",
    "import matplotlib.pyplot as plt\n",
    "\n",
    "# Create XGBoost Regressor\n",
    "xg_reg = xgb.XGBRegressor(objective='reg:squarederror', colsample_bytree=0.3, learning_rate=0.1,\n",
    "                          max_depth=5, alpha=10, n_estimators=10)\n",
    "\n",
    "# Perform cross-validated predictions\n",
    "y_pred_cv = cross_val_predict(xg_reg, X_train, y_train, cv=10)\n",
    "\n",
    "# Evaluate performance\n",
    "rmse_cv = np.sqrt(mean_squared_error(y_train, y_pred_cv))\n",
    "r2_cv = r2_score(y_train, y_pred_cv)\n",
    "\n",
    "print(f\"XGBoost Cross-Validated RMSE: {rmse_cv}\")\n",
    "print(f\"XGBoost Cross-Validated R^2: {r2_cv}\")\n",
    "\n",
    "# Plot actual vs predicted values\n",
    "plt.scatter(y_train, y_pred_cv)\n",
    "plt.xlabel(\"Actual Sale Price\")\n",
    "plt.ylabel(\"Predicted Sale Price\")\n",
    "plt.title(\"Actual vs Predicted Sale Prices (Cross-Validated)\")\n",
    "plt.show()\n"
   ]
  },
  {
   "cell_type": "code",
   "execution_count": null,
   "id": "35708e6f-f95c-44b6-9fef-7aae60901bb2",
   "metadata": {},
   "outputs": [],
   "source": []
  }
 ],
 "metadata": {
  "kernelspec": {
   "display_name": "Python 3 (ipykernel)",
   "language": "python",
   "name": "python3"
  },
  "language_info": {
   "codemirror_mode": {
    "name": "ipython",
    "version": 3
   },
   "file_extension": ".py",
   "mimetype": "text/x-python",
   "name": "python",
   "nbconvert_exporter": "python",
   "pygments_lexer": "ipython3",
   "version": "3.11.4"
  }
 },
 "nbformat": 4,
 "nbformat_minor": 5
}
